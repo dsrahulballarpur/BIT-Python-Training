{
 "cells": [
  {
   "cell_type": "code",
   "execution_count": 1,
   "id": "31e3bf1b",
   "metadata": {},
   "outputs": [],
   "source": [
    "#Operators \n",
    "\n",
    "\n",
    "#Arithmatic\n",
    "#Relational or comparison\n",
    "#Equality\n",
    "#Ternary \n",
    "#Compound \n",
    "#Special Operators \n"
   ]
  },
  {
   "cell_type": "code",
   "execution_count": 6,
   "id": "dfddc51e",
   "metadata": {},
   "outputs": [
    {
     "name": "stdout",
     "output_type": "stream",
     "text": [
      "a+b: 13\n",
      "a-b: 7\n",
      "a*b: 30\n",
      "a/b: 3.3333333333333335\n",
      "a%b: 1\n",
      "a//b: 3\n",
      "a**b: 1000\n"
     ]
    }
   ],
   "source": [
    "#Arithmatic \n",
    "a = 10 \n",
    "b = 3\n",
    "\n",
    "print('a+b:', a+b)\n",
    "print('a-b:',a-b)\n",
    "print('a*b:',a*b)\n",
    "print('a/b:',a/b)\n",
    "print('a%b:',a%b)\n",
    "print('a//b:',a//b)\n",
    "print('a**b:',a**b)"
   ]
  },
  {
   "cell_type": "code",
   "execution_count": 7,
   "id": "41a21444",
   "metadata": {},
   "outputs": [
    {
     "data": {
      "text/plain": [
       "'ab'"
      ]
     },
     "execution_count": 7,
     "metadata": {},
     "output_type": "execute_result"
    }
   ],
   "source": [
    "a = 'a'\n",
    "b = 'b'\n",
    "a+b"
   ]
  },
  {
   "cell_type": "code",
   "execution_count": 9,
   "id": "293fe481",
   "metadata": {},
   "outputs": [
    {
     "data": {
      "text/plain": [
       "20"
      ]
     },
     "execution_count": 9,
     "metadata": {},
     "output_type": "execute_result"
    }
   ],
   "source": [
    "a = 10\n",
    "b = int('10')\n",
    "\n",
    "a+b"
   ]
  },
  {
   "cell_type": "code",
   "execution_count": 10,
   "id": "21fcf45d",
   "metadata": {},
   "outputs": [
    {
     "name": "stdout",
     "output_type": "stream",
     "text": [
      "a<b: False\n",
      "a<=b: False\n",
      "a>b: True\n",
      "a>=b: True\n"
     ]
    }
   ],
   "source": [
    "a = 10 \n",
    "b = 3\n",
    "print('a<b:',a<b)\n",
    "print('a<=b:',a<=b)\n",
    "print('a>b:',a>b)\n",
    "print('a>=b:',a>=b)"
   ]
  },
  {
   "cell_type": "code",
   "execution_count": 14,
   "id": "2993b6cd",
   "metadata": {},
   "outputs": [
    {
     "data": {
      "text/plain": [
       "True"
      ]
     },
     "execution_count": 14,
     "metadata": {},
     "output_type": "execute_result"
    }
   ],
   "source": [
    "a = 10 \n",
    "b = 3 \n",
    "a == b\n",
    "a!=b"
   ]
  },
  {
   "cell_type": "code",
   "execution_count": 15,
   "id": "941679a2",
   "metadata": {},
   "outputs": [
    {
     "data": {
      "text/plain": [
       "10"
      ]
     },
     "execution_count": 15,
     "metadata": {},
     "output_type": "execute_result"
    }
   ],
   "source": [
    "a = 10 \n",
    "b = 5\n",
    "x = a if a>b else b\n",
    "x"
   ]
  },
  {
   "cell_type": "code",
   "execution_count": 19,
   "id": "3c5ba5e6",
   "metadata": {},
   "outputs": [
    {
     "data": {
      "text/plain": [
       "7"
      ]
     },
     "execution_count": 19,
     "metadata": {},
     "output_type": "execute_result"
    }
   ],
   "source": [
    "a = 10 \n",
    "b = 5\n",
    "c = 7\n",
    "x = a if a>b>c else b if b>c else c \n",
    "x"
   ]
  },
  {
   "cell_type": "code",
   "execution_count": 21,
   "id": "bb238818",
   "metadata": {},
   "outputs": [
    {
     "data": {
      "text/plain": [
       "10"
      ]
     },
     "execution_count": 21,
     "metadata": {},
     "output_type": "execute_result"
    }
   ],
   "source": [
    "a = 10 \n",
    "b = 5\n",
    "c = 7\n",
    "x = a if a>b or a>c else b if b>c else c \n",
    "x"
   ]
  },
  {
   "cell_type": "code",
   "execution_count": 22,
   "id": "af653244",
   "metadata": {},
   "outputs": [
    {
     "data": {
      "text/plain": [
       "30"
      ]
     },
     "execution_count": 22,
     "metadata": {},
     "output_type": "execute_result"
    }
   ],
   "source": [
    "a = 10 \n",
    "a +=20\n",
    "#a=a+20\n",
    "a"
   ]
  },
  {
   "cell_type": "code",
   "execution_count": null,
   "id": "f933424a",
   "metadata": {},
   "outputs": [],
   "source": [
    "#Special Operators \n",
    "    #Membership operators\n",
    "        #in\n",
    "        #not in\n",
    "    #Identity Operators\n",
    "        #is\n",
    "        #is not"
   ]
  },
  {
   "cell_type": "code",
   "execution_count": 23,
   "id": "bb7e432b",
   "metadata": {},
   "outputs": [
    {
     "data": {
      "text/plain": [
       "True"
      ]
     },
     "execution_count": 23,
     "metadata": {},
     "output_type": "execute_result"
    }
   ],
   "source": [
    "a = 10 \n",
    "b = 10 \n",
    "a is b"
   ]
  },
  {
   "cell_type": "code",
   "execution_count": 25,
   "id": "279a588c",
   "metadata": {},
   "outputs": [
    {
     "name": "stdout",
     "output_type": "stream",
     "text": [
      "2909665782352\n",
      "2909665782352\n"
     ]
    }
   ],
   "source": [
    "print(id(a))\n",
    "print(id(b))\n"
   ]
  },
  {
   "cell_type": "code",
   "execution_count": 32,
   "id": "5fd1ec32",
   "metadata": {},
   "outputs": [
    {
     "data": {
      "text/plain": [
       "False"
      ]
     },
     "execution_count": 32,
     "metadata": {},
     "output_type": "execute_result"
    }
   ],
   "source": [
    "a = 250.5\n",
    "b = 250.5\n",
    "a is b "
   ]
  },
  {
   "cell_type": "code",
   "execution_count": 27,
   "id": "4c4982c2",
   "metadata": {},
   "outputs": [
    {
     "name": "stdout",
     "output_type": "stream",
     "text": [
      "2909746180848\n",
      "2909746180976\n"
     ]
    }
   ],
   "source": [
    "print(id(a))\n",
    "print(id(b))\n"
   ]
  },
  {
   "cell_type": "code",
   "execution_count": 34,
   "id": "f5eb2fe2",
   "metadata": {},
   "outputs": [
    {
     "data": {
      "text/plain": [
       "False"
      ]
     },
     "execution_count": 34,
     "metadata": {},
     "output_type": "execute_result"
    }
   ],
   "source": [
    "a = [1,2,3,4,5]\n",
    "5 not in a"
   ]
  },
  {
   "cell_type": "code",
   "execution_count": 35,
   "id": "71c8d7f6",
   "metadata": {},
   "outputs": [],
   "source": [
    "#Input statement"
   ]
  },
  {
   "cell_type": "code",
   "execution_count": 56,
   "id": "5ab6a640",
   "metadata": {},
   "outputs": [
    {
     "name": "stdout",
     "output_type": "stream",
     "text": [
      "Enter the age: -1\n"
     ]
    }
   ],
   "source": [
    "age = bool(input('Enter the age: '))"
   ]
  },
  {
   "cell_type": "code",
   "execution_count": 57,
   "id": "d8cd94ce",
   "metadata": {},
   "outputs": [
    {
     "data": {
      "text/plain": [
       "bool"
      ]
     },
     "execution_count": 57,
     "metadata": {},
     "output_type": "execute_result"
    }
   ],
   "source": [
    "type(age)"
   ]
  },
  {
   "cell_type": "code",
   "execution_count": 58,
   "id": "cf8e5959",
   "metadata": {},
   "outputs": [
    {
     "data": {
      "text/plain": [
       "True"
      ]
     },
     "execution_count": 58,
     "metadata": {},
     "output_type": "execute_result"
    }
   ],
   "source": [
    "age"
   ]
  },
  {
   "cell_type": "code",
   "execution_count": 59,
   "id": "23816352",
   "metadata": {},
   "outputs": [
    {
     "name": "stdout",
     "output_type": "stream",
     "text": [
      "36\n"
     ]
    }
   ],
   "source": [
    "age=36\n",
    "print(age)"
   ]
  },
  {
   "cell_type": "code",
   "execution_count": 62,
   "id": "184086cf",
   "metadata": {},
   "outputs": [
    {
     "name": "stdout",
     "output_type": "stream",
     "text": [
      "Hi How are you?  Hope doing good\n"
     ]
    }
   ],
   "source": [
    "print('Hi',end=' ')\n",
    "print('How are you? ',end=' ')\n",
    "print('Hope doing good')"
   ]
  },
  {
   "cell_type": "code",
   "execution_count": 61,
   "id": "835bdabd",
   "metadata": {},
   "outputs": [
    {
     "name": "stdout",
     "output_type": "stream",
     "text": [
      "Hi How are you? Hope doing good\n"
     ]
    }
   ],
   "source": [
    "print('Hi How are you? Hope doing good')"
   ]
  },
  {
   "cell_type": "code",
   "execution_count": 63,
   "id": "f5b5ffd5",
   "metadata": {},
   "outputs": [
    {
     "name": "stdout",
     "output_type": "stream",
     "text": [
      "Hi Rahul Your company is:  Deloitte Your salary is:  10000\n"
     ]
    }
   ],
   "source": [
    "name = 'Rahul'\n",
    "company = 'Deloitte'\n",
    "salary = 10000\n",
    "\n",
    "print('Hi', name, 'Your company is: ', company, 'Your salary is: ', salary)"
   ]
  },
  {
   "cell_type": "code",
   "execution_count": 68,
   "id": "d02c92a5",
   "metadata": {},
   "outputs": [
    {
     "name": "stdout",
     "output_type": "stream",
     "text": [
      "Hi Rahul, your company is: Deloitte, your salary is: 10000\n"
     ]
    }
   ],
   "source": [
    "name = 'Rahul'\n",
    "company = 'Deloitte'\n",
    "salary = 10000\n",
    "\n",
    "print('Hi {n}, your company is: {c}, your salary is: {s}'.format(c=company, n=name,s=salary))"
   ]
  },
  {
   "cell_type": "code",
   "execution_count": 70,
   "id": "d03f6b82",
   "metadata": {},
   "outputs": [
    {
     "name": "stdout",
     "output_type": "stream",
     "text": [
      "Hi {name}, your company is: {company}, your salary is: {salary}\n"
     ]
    }
   ],
   "source": [
    "name = 'Rahul'\n",
    "company = 'Deloitte'\n",
    "salary = 10000\n",
    "\n",
    "print('Hi {name}, your company is: {company}, your salary is: {salary}')"
   ]
  },
  {
   "cell_type": "code",
   "execution_count": 69,
   "id": "e13e6c71",
   "metadata": {},
   "outputs": [],
   "source": [
    "#if else"
   ]
  },
  {
   "cell_type": "code",
   "execution_count": 86,
   "id": "5f895a53",
   "metadata": {},
   "outputs": [
    {
     "name": "stdout",
     "output_type": "stream",
     "text": [
      "Enter the marks: 32\n",
      "You failed the exam\n",
      "Hi\n"
     ]
    }
   ],
   "source": [
    "marks = int(input('Enter the marks: '))\n",
    "if marks<35:\n",
    "    print('You failed the exam')\n",
    "    print('Hi')\n",
    "elif marks>=35 and marks<=50:\n",
    "    print('You got avg marks')\n",
    "    print('Hi there')\n",
    "else:\n",
    "    print('You passed the exam')\n",
    "    print('Hello')"
   ]
  },
  {
   "cell_type": "code",
   "execution_count": 87,
   "id": "1c767b1e",
   "metadata": {},
   "outputs": [],
   "source": [
    "#for loop"
   ]
  },
  {
   "cell_type": "code",
   "execution_count": 88,
   "id": "db1c8f25",
   "metadata": {},
   "outputs": [],
   "source": [
    "s = 'Ballarpur'"
   ]
  },
  {
   "cell_type": "code",
   "execution_count": 89,
   "id": "badcd0a6",
   "metadata": {},
   "outputs": [
    {
     "data": {
      "text/plain": [
       "'Ballarpur'"
      ]
     },
     "execution_count": 89,
     "metadata": {},
     "output_type": "execute_result"
    }
   ],
   "source": [
    "s"
   ]
  },
  {
   "cell_type": "code",
   "execution_count": 97,
   "id": "b5950619",
   "metadata": {},
   "outputs": [
    {
     "name": "stdout",
     "output_type": "stream",
     "text": [
      "B\n",
      "a\n",
      "l\n",
      "l\n",
      "a\n",
      "r\n",
      "p\n",
      "u\n",
      "r\n"
     ]
    }
   ],
   "source": [
    "import time\n",
    "for i in list(range(0,len(s))):\n",
    "    print(s[i])\n",
    "    time.sleep(2)"
   ]
  },
  {
   "cell_type": "code",
   "execution_count": 106,
   "id": "378ebaa3",
   "metadata": {},
   "outputs": [],
   "source": [
    "profit = [324,233,323]\n",
    "sales = [4333,2333,1222,1333]"
   ]
  },
  {
   "cell_type": "code",
   "execution_count": 108,
   "id": "8b223a5b",
   "metadata": {},
   "outputs": [
    {
     "name": "stdout",
     "output_type": "stream",
     "text": [
      "0.07477498269097622\n",
      "0.09987141020145734\n",
      "0.26432078559738137\n"
     ]
    }
   ],
   "source": [
    "for i in range(0,len(profit)):\n",
    "    print(profit[i]/sales[i])"
   ]
  },
  {
   "cell_type": "code",
   "execution_count": 109,
   "id": "a99e78dd",
   "metadata": {},
   "outputs": [],
   "source": [
    "#while"
   ]
  },
  {
   "cell_type": "code",
   "execution_count": null,
   "id": "62b0499a",
   "metadata": {},
   "outputs": [],
   "source": [
    "while 1==2:\n",
    "    print('Hi')"
   ]
  },
  {
   "cell_type": "code",
   "execution_count": 2,
   "id": "bc40fe31",
   "metadata": {},
   "outputs": [
    {
     "name": "stdout",
     "output_type": "stream",
     "text": [
      "total coupouns left are:  5\n",
      "total coupouns left are:  4\n",
      "total coupouns left are:  3\n",
      "total coupouns left are:  2\n",
      "total coupouns left are:  1\n",
      "no coupouns left\n"
     ]
    }
   ],
   "source": [
    "coupoun = 5\n",
    "utilized = 0\n",
    "while utilized<coupoun:\n",
    "    print('total coupouns left are: ', coupoun-utilized)\n",
    "    utilized=utilized+1\n",
    "print('no coupouns left')"
   ]
  },
  {
   "cell_type": "code",
   "execution_count": 11,
   "id": "e8091aee",
   "metadata": {},
   "outputs": [
    {
     "name": "stdout",
     "output_type": "stream",
     "text": [
      "0\n"
     ]
    }
   ],
   "source": [
    "num=5\n",
    "dec=num-1\n",
    "a=num*dec\n",
    "while dec>0:\n",
    "    dec=dec-1\n",
    "    a=a*dec\n",
    "print(a)"
   ]
  },
  {
   "cell_type": "code",
   "execution_count": 16,
   "id": "38345407",
   "metadata": {},
   "outputs": [
    {
     "name": "stdout",
     "output_type": "stream",
     "text": [
      "Enter the number:5\n",
      "120\n"
     ]
    }
   ],
   "source": [
    "number = int(input('Enter the number:'))\n",
    "result = 1\n",
    "if number<0:\n",
    "    print('There is no factorical of negative number')\n",
    "else:\n",
    "    while number>=1:\n",
    "        result = result*number\n",
    "        number=number-1\n",
    "    print(result)"
   ]
  },
  {
   "cell_type": "code",
   "execution_count": 28,
   "id": "6de6ebb3",
   "metadata": {},
   "outputs": [],
   "source": [
    "#Functions\n",
    "def greeting():\n",
    "    \"\"\"This function is greeting my learners\"\"\"\n",
    "    print('Good morning')"
   ]
  },
  {
   "cell_type": "code",
   "execution_count": null,
   "id": "94b478e1",
   "metadata": {},
   "outputs": [],
   "source": [
    "greeting()"
   ]
  },
  {
   "cell_type": "code",
   "execution_count": 21,
   "id": "ce1318ac",
   "metadata": {},
   "outputs": [],
   "source": [
    "#Functions\n",
    "def greeting(name):\n",
    "    print('Good morning',name)"
   ]
  },
  {
   "cell_type": "code",
   "execution_count": 23,
   "id": "a370b94c",
   "metadata": {},
   "outputs": [
    {
     "name": "stdout",
     "output_type": "stream",
     "text": [
      "Good morning a\n"
     ]
    }
   ],
   "source": [
    "greeting('a')"
   ]
  },
  {
   "cell_type": "code",
   "execution_count": 24,
   "id": "05bfbad5",
   "metadata": {},
   "outputs": [],
   "source": [
    "#Functions\n",
    "def greeting(name='Learner'):\n",
    "    print('Good morning',name)"
   ]
  },
  {
   "cell_type": "code",
   "execution_count": 25,
   "id": "1c580778",
   "metadata": {},
   "outputs": [
    {
     "name": "stdout",
     "output_type": "stream",
     "text": [
      "Good morning Learner\n",
      "Good morning a\n"
     ]
    }
   ],
   "source": [
    "greeting()\n",
    "greeting('a')"
   ]
  },
  {
   "cell_type": "code",
   "execution_count": 30,
   "id": "84a32b76",
   "metadata": {},
   "outputs": [],
   "source": [
    "def factorial(number):\n",
    "    \n",
    "    result = 1\n",
    "    if number<0:\n",
    "        print('There is no factorical of negative number')\n",
    "    else:\n",
    "        while number>=1:\n",
    "            result = result*number\n",
    "            number=number-1\n",
    "        print(result)"
   ]
  },
  {
   "cell_type": "code",
   "execution_count": 33,
   "id": "19b55a13",
   "metadata": {},
   "outputs": [
    {
     "name": "stdout",
     "output_type": "stream",
     "text": [
      "1\n"
     ]
    }
   ],
   "source": [
    "factorial(0)"
   ]
  },
  {
   "cell_type": "code",
   "execution_count": null,
   "id": "a6bfd87b",
   "metadata": {},
   "outputs": [],
   "source": []
  },
  {
   "cell_type": "code",
   "execution_count": null,
   "id": "9ca83647",
   "metadata": {},
   "outputs": [],
   "source": []
  },
  {
   "cell_type": "code",
   "execution_count": null,
   "id": "6c4a0467",
   "metadata": {},
   "outputs": [],
   "source": []
  }
 ],
 "metadata": {
  "kernelspec": {
   "display_name": "Python 3 (ipykernel)",
   "language": "python",
   "name": "python3"
  },
  "language_info": {
   "codemirror_mode": {
    "name": "ipython",
    "version": 3
   },
   "file_extension": ".py",
   "mimetype": "text/x-python",
   "name": "python",
   "nbconvert_exporter": "python",
   "pygments_lexer": "ipython3",
   "version": "3.9.13"
  }
 },
 "nbformat": 4,
 "nbformat_minor": 5
}
