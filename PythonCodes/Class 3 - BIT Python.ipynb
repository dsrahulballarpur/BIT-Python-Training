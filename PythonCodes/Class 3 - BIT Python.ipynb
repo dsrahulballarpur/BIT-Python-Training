{
 "cells": [
  {
   "cell_type": "code",
   "execution_count": 4,
   "id": "c96bebe2",
   "metadata": {},
   "outputs": [],
   "source": [
    "def cal(num1,num2,option):\n",
    "    if option == 'all':\n",
    "        print(num1+num2)\n",
    "        print(num1-num2)\n",
    "        print(num1*num2)\n",
    "        print(num1/num2)\n",
    "        \n",
    "    elif option=='add':\n",
    "        print(num1+num2)\n",
    "        \n",
    "    elif option=='sub':\n",
    "        print(num1-num2)\n",
    "        \n",
    "    elif option=='mul':\n",
    "        print(num1*num2)\n",
    "        \n",
    "    elif option=='div':\n",
    "        print(num1/num2)\n",
    "        \n",
    "    else:\n",
    "        print('error')"
   ]
  },
  {
   "cell_type": "code",
   "execution_count": 6,
   "id": "542e6f2f",
   "metadata": {},
   "outputs": [
    {
     "name": "stdout",
     "output_type": "stream",
     "text": [
      "error\n"
     ]
    }
   ],
   "source": [
    "output = cal(2,4,'r')"
   ]
  },
  {
   "cell_type": "code",
   "execution_count": 8,
   "id": "51a64d83",
   "metadata": {},
   "outputs": [
    {
     "data": {
      "text/plain": [
       "NoneType"
      ]
     },
     "execution_count": 8,
     "metadata": {},
     "output_type": "execute_result"
    }
   ],
   "source": [
    "type(output)"
   ]
  },
  {
   "cell_type": "code",
   "execution_count": 11,
   "id": "2b3de430",
   "metadata": {},
   "outputs": [],
   "source": [
    "def cal(num1,num2,option):\n",
    "    if option == 'all':\n",
    "        return num1+num2,num1-num2,num1*num2,num1/num2\n",
    "    elif option=='add':\n",
    "        return num1+num2\n",
    "        \n",
    "    elif option=='sub':\n",
    "        return num1-num2\n",
    "        \n",
    "    elif option=='mul':\n",
    "        return num1*num2\n",
    "        \n",
    "    elif option=='div':\n",
    "        return num1/num2\n",
    "        \n",
    "    else:\n",
    "        return 'error'"
   ]
  },
  {
   "cell_type": "code",
   "execution_count": 13,
   "id": "cd177e09",
   "metadata": {},
   "outputs": [
    {
     "data": {
      "text/plain": [
       "(255855846846, 209009000000, 5444363071070952036929, 9.92307653862284)"
      ]
     },
     "execution_count": 13,
     "metadata": {},
     "output_type": "execute_result"
    }
   ],
   "source": [
    "cal(232432423423,23423423423,'all')"
   ]
  },
  {
   "cell_type": "code",
   "execution_count": 15,
   "id": "c94074a9",
   "metadata": {},
   "outputs": [],
   "source": [
    "def cal(num1,num2,option):\n",
    "    if option == 'all':\n",
    "        return {'sum n1,n2':num1+num2,'sub n1,n2':num1-num2,'mul n1,n2':num1*num2,'div n1,n2':num1/num2}\n",
    "    elif option=='add':\n",
    "        return num1+num2\n",
    "        \n",
    "    elif option=='sub':\n",
    "        return num1-num2\n",
    "        \n",
    "    elif option=='mul':\n",
    "        return num1*num2\n",
    "        \n",
    "    elif option=='div':\n",
    "        return num1/num2\n",
    "        \n",
    "    else:\n",
    "        return 'error'"
   ]
  },
  {
   "cell_type": "code",
   "execution_count": 17,
   "id": "7eafdfd4",
   "metadata": {},
   "outputs": [],
   "source": [
    "output = cal(232432423423,23423423423,'all')"
   ]
  },
  {
   "cell_type": "code",
   "execution_count": 18,
   "id": "96e56b3e",
   "metadata": {},
   "outputs": [
    {
     "data": {
      "text/plain": [
       "{'sum n1,n2': 255855846846,\n",
       " 'sub n1,n2': 209009000000,\n",
       " 'mul n1,n2': 5444363071070952036929,\n",
       " 'div n1,n2': 9.92307653862284}"
      ]
     },
     "execution_count": 18,
     "metadata": {},
     "output_type": "execute_result"
    }
   ],
   "source": [
    "output"
   ]
  },
  {
   "cell_type": "code",
   "execution_count": 22,
   "id": "d2cd7658",
   "metadata": {},
   "outputs": [],
   "source": [
    "def greeting(location, name='L'):\n",
    "    print(name,location)"
   ]
  },
  {
   "cell_type": "code",
   "execution_count": 23,
   "id": "8dc1e8a4",
   "metadata": {},
   "outputs": [
    {
     "name": "stdout",
     "output_type": "stream",
     "text": [
      "G A\n"
     ]
    }
   ],
   "source": [
    "greeting('A','G')"
   ]
  },
  {
   "cell_type": "code",
   "execution_count": 27,
   "id": "e7e60587",
   "metadata": {},
   "outputs": [
    {
     "name": "stdout",
     "output_type": "stream",
     "text": [
      "10\n",
      "20\n"
     ]
    }
   ],
   "source": [
    "a = 1000\n",
    "def f1():\n",
    "    global a\n",
    "    a=10\n",
    "    print(a)\n",
    "\n",
    "f1()\n",
    "\n",
    "def f2():\n",
    "    a=20\n",
    "    \n",
    "    print(a)\n",
    "f2()    \n",
    "    "
   ]
  },
  {
   "cell_type": "code",
   "execution_count": 28,
   "id": "a158788b",
   "metadata": {},
   "outputs": [
    {
     "data": {
      "text/plain": [
       "10"
      ]
     },
     "execution_count": 28,
     "metadata": {},
     "output_type": "execute_result"
    }
   ],
   "source": [
    "a\n"
   ]
  },
  {
   "cell_type": "code",
   "execution_count": 30,
   "id": "f487d1fd",
   "metadata": {},
   "outputs": [
    {
     "name": "stdout",
     "output_type": "stream",
     "text": [
      "40\n"
     ]
    }
   ],
   "source": [
    "def add(a,b,c):\n",
    "    print(a+b+c)\n",
    "    \n",
    "add(10,20,10)"
   ]
  },
  {
   "cell_type": "code",
   "execution_count": null,
   "id": "4514f87c",
   "metadata": {},
   "outputs": [],
   "source": []
  },
  {
   "cell_type": "code",
   "execution_count": 41,
   "id": "c12b7b5d",
   "metadata": {},
   "outputs": [],
   "source": [
    "def add(*args):\n",
    "    result=0\n",
    "    for i in args:\n",
    "        result=i+result\n",
    "    print(result)"
   ]
  },
  {
   "cell_type": "code",
   "execution_count": 42,
   "id": "8f1ff7b0",
   "metadata": {},
   "outputs": [
    {
     "name": "stdout",
     "output_type": "stream",
     "text": [
      "210\n"
     ]
    }
   ],
   "source": [
    "add(10,20,30,40,50,60)"
   ]
  },
  {
   "cell_type": "code",
   "execution_count": 44,
   "id": "e33b4704",
   "metadata": {},
   "outputs": [],
   "source": [
    "sumofnum = lambda a,b:a+b"
   ]
  },
  {
   "cell_type": "code",
   "execution_count": 45,
   "id": "1eab9bbc",
   "metadata": {},
   "outputs": [
    {
     "data": {
      "text/plain": [
       "30"
      ]
     },
     "execution_count": 45,
     "metadata": {},
     "output_type": "execute_result"
    }
   ],
   "source": [
    "sumofnum(10,20)"
   ]
  },
  {
   "cell_type": "code",
   "execution_count": 46,
   "id": "b980017c",
   "metadata": {},
   "outputs": [],
   "source": [
    "#String operations"
   ]
  },
  {
   "cell_type": "code",
   "execution_count": 48,
   "id": "ee3be266",
   "metadata": {},
   "outputs": [
    {
     "data": {
      "text/plain": [
       "str"
      ]
     },
     "execution_count": 48,
     "metadata": {},
     "output_type": "execute_result"
    }
   ],
   "source": [
    "a = 'Ballarpur'\n",
    "type(a)"
   ]
  },
  {
   "cell_type": "code",
   "execution_count": 55,
   "id": "a8f90a5c",
   "metadata": {},
   "outputs": [
    {
     "name": "stdout",
     "output_type": "stream",
     "text": [
      "Enter the city:    Surat$\n",
      "Found\n"
     ]
    }
   ],
   "source": [
    "list_city = ['Surat','Ahmedabad','Nagpur','Ballarpur','Chennai']\n",
    "city = input('Enter the city: ')\n",
    "if city.strip().strip('$') in list_city:\n",
    "    print('Found')\n",
    "else:\n",
    "    print('Not found')"
   ]
  },
  {
   "cell_type": "code",
   "execution_count": 59,
   "id": "37055560",
   "metadata": {},
   "outputs": [
    {
     "data": {
      "text/plain": [
       "3"
      ]
     },
     "execution_count": 59,
     "metadata": {},
     "output_type": "execute_result"
    }
   ],
   "source": [
    "s = 'ballarpur'\n",
    "s.find('l',3,10)"
   ]
  },
  {
   "cell_type": "code",
   "execution_count": 60,
   "id": "383aa852",
   "metadata": {},
   "outputs": [
    {
     "data": {
      "text/plain": [
       "-1"
      ]
     },
     "execution_count": 60,
     "metadata": {},
     "output_type": "execute_result"
    }
   ],
   "source": [
    "s = 'ballarpur'\n",
    "s.find('z',3,10)"
   ]
  },
  {
   "cell_type": "code",
   "execution_count": 61,
   "id": "a5757464",
   "metadata": {},
   "outputs": [
    {
     "data": {
      "text/plain": [
       "8"
      ]
     },
     "execution_count": 61,
     "metadata": {},
     "output_type": "execute_result"
    }
   ],
   "source": [
    "s = 'ballarpur'\n",
    "s.rfind('r')"
   ]
  },
  {
   "cell_type": "code",
   "execution_count": 72,
   "id": "868ed6ad",
   "metadata": {},
   "outputs": [],
   "source": [
    "s = 'rahululul'"
   ]
  },
  {
   "cell_type": "code",
   "execution_count": 73,
   "id": "369bc511",
   "metadata": {},
   "outputs": [
    {
     "name": "stdout",
     "output_type": "stream",
     "text": [
      "Enter the char : l\n",
      "4\n",
      "6\n",
      "8\n"
     ]
    }
   ],
   "source": [
    "l1= []\n",
    "c = input(\"Enter the char : \")\n",
    "for i in range(0,len(s)):\n",
    "    if s[i]==c:\n",
    "        l1.append(i)\n",
    "for i in l1:\n",
    "    print(i)"
   ]
  },
  {
   "cell_type": "code",
   "execution_count": 66,
   "id": "8ca0e1d2",
   "metadata": {},
   "outputs": [
    {
     "name": "stdout",
     "output_type": "stream",
     "text": [
      "2\n",
      "2\n",
      "2\n",
      "2\n",
      "2\n",
      "2\n",
      "2\n",
      "2\n",
      "2\n"
     ]
    }
   ],
   "source": [
    "index =0\n",
    "for i in range(0, len(s)):\n",
    "    thisIndex = s.find('l', index, len(s)+1)\n",
    "    print(thisIndex)\n",
    "    index = thisIndex"
   ]
  },
  {
   "cell_type": "code",
   "execution_count": 71,
   "id": "81914509",
   "metadata": {},
   "outputs": [
    {
     "name": "stdout",
     "output_type": "stream",
     "text": [
      "what you looking for: z\n",
      "Not found\n"
     ]
    }
   ],
   "source": [
    "s = 'rahululul'\n",
    "lf = input('what you looking for: ')\n",
    "flag = False \n",
    "pos = -1\n",
    "n = len(s)\n",
    "while True:\n",
    "    pos = s.find(lf,pos+1,n)\n",
    "    if pos==-1:\n",
    "        break\n",
    "    print('The index value is: ', pos)\n",
    "    flag = True\n",
    "if flag==False:\n",
    "    print('Not found')"
   ]
  },
  {
   "cell_type": "code",
   "execution_count": 74,
   "id": "f2f79213",
   "metadata": {},
   "outputs": [],
   "source": [
    "#count\n",
    "#replace\n",
    "#split\n",
    "#join \n",
    "#case functions"
   ]
  },
  {
   "cell_type": "code",
   "execution_count": 76,
   "id": "50cf715d",
   "metadata": {},
   "outputs": [
    {
     "data": {
      "text/plain": [
       "1"
      ]
     },
     "execution_count": 76,
     "metadata": {},
     "output_type": "execute_result"
    }
   ],
   "source": [
    "s = 'rahultiwarirahultiwari'\n",
    "s.count('r',10,20)"
   ]
  },
  {
   "cell_type": "code",
   "execution_count": 78,
   "id": "62edb53b",
   "metadata": {},
   "outputs": [
    {
     "data": {
      "text/plain": [
       "'atharvtiwariatharvtiwari'"
      ]
     },
     "execution_count": 78,
     "metadata": {},
     "output_type": "execute_result"
    }
   ],
   "source": [
    "s = 'rahultiwarirahultiwari'\n",
    "s.replace('rahul','atharv')"
   ]
  },
  {
   "cell_type": "code",
   "execution_count": 79,
   "id": "07d1c651",
   "metadata": {},
   "outputs": [
    {
     "data": {
      "text/plain": [
       "['rahul', 'tiwrari', 'atharv']"
      ]
     },
     "execution_count": 79,
     "metadata": {},
     "output_type": "execute_result"
    }
   ],
   "source": [
    "s='rahul$tiwrari$atharv'\n",
    "s.split('$')"
   ]
  },
  {
   "cell_type": "code",
   "execution_count": 81,
   "id": "b4b246d5",
   "metadata": {},
   "outputs": [
    {
     "data": {
      "text/plain": [
       "['rahul', 'tiwari', 'data', 'science-gurgaon']"
      ]
     },
     "execution_count": 81,
     "metadata": {},
     "output_type": "execute_result"
    }
   ],
   "source": [
    "s = 'rahul-tiwari-data-science-gurgaon'\n",
    "s.split('-',3)"
   ]
  },
  {
   "cell_type": "code",
   "execution_count": 83,
   "id": "ea9d3800",
   "metadata": {},
   "outputs": [
    {
     "data": {
      "text/plain": [
       "'rahul$tiwari$atharv'"
      ]
     },
     "execution_count": 83,
     "metadata": {},
     "output_type": "execute_result"
    }
   ],
   "source": [
    "s = ['rahul', 'tiwari','atharv']\n",
    "'$'.join(s)"
   ]
  },
  {
   "cell_type": "code",
   "execution_count": 89,
   "id": "a620f665",
   "metadata": {},
   "outputs": [
    {
     "name": "stdout",
     "output_type": "stream",
     "text": [
      "RAHUL IS A DATA SCIENTIST\n",
      "rahul is a data scientist\n",
      "Rahul is a data scientist\n",
      "Rahul Is A Data Scientist\n",
      "\n"
     ]
    }
   ],
   "source": [
    "s = 'rahul is a data scientist'\n",
    "print(s.upper())\n",
    "print(s.lower())\n",
    "print(s.capitalize())\n",
    "print(s.title())\n",
    "print()"
   ]
  },
  {
   "cell_type": "code",
   "execution_count": 93,
   "id": "8aedc7ac",
   "metadata": {},
   "outputs": [
    {
     "name": "stdout",
     "output_type": "stream",
     "text": [
      "True\n",
      "False\n",
      "False\n"
     ]
    }
   ],
   "source": [
    "s = 'rahul'\n",
    "print(s.islower())\n",
    "print(s.isupper())\n",
    "print(s.istitle())"
   ]
  },
  {
   "cell_type": "code",
   "execution_count": 94,
   "id": "9c0f1abf",
   "metadata": {},
   "outputs": [],
   "source": [
    "s = 'rahul'\n",
    "t = '123'\n",
    "r = 'rahul123'"
   ]
  },
  {
   "cell_type": "code",
   "execution_count": 99,
   "id": "fab09cf8",
   "metadata": {},
   "outputs": [
    {
     "name": "stdout",
     "output_type": "stream",
     "text": [
      "True\n",
      "True\n",
      "True\n",
      "True\n",
      "True\n"
     ]
    }
   ],
   "source": [
    "print(s.isalpha())\n",
    "print(t.isnumeric())\n",
    "print(r.isalnum())\n",
    "print(s.isalnum())\n",
    "print(t.isalnum())"
   ]
  },
  {
   "cell_type": "code",
   "execution_count": null,
   "id": "4fe2fac3",
   "metadata": {},
   "outputs": [],
   "source": [
    "#q1. ballarpur\n",
    "     012345678\n",
    "    \n",
    "Output: blapr\n",
    "        alru\n",
    "#q2. jame\n",
    "     john\n",
    "output: jjaomhen\n",
    "    \n",
    "#3. a4b1d3\n",
    "output: abd134\n",
    "    \n",
    "#4: a4b3c2\n",
    "output: aaaabbbcc"
   ]
  },
  {
   "cell_type": "code",
   "execution_count": null,
   "id": "b435f906",
   "metadata": {},
   "outputs": [],
   "source": []
  },
  {
   "cell_type": "code",
   "execution_count": null,
   "id": "686e1208",
   "metadata": {},
   "outputs": [],
   "source": []
  },
  {
   "cell_type": "code",
   "execution_count": null,
   "id": "e8c6ed51",
   "metadata": {},
   "outputs": [],
   "source": []
  },
  {
   "cell_type": "code",
   "execution_count": null,
   "id": "35d7c2d6",
   "metadata": {},
   "outputs": [],
   "source": []
  }
 ],
 "metadata": {
  "kernelspec": {
   "display_name": "Python 3 (ipykernel)",
   "language": "python",
   "name": "python3"
  },
  "language_info": {
   "codemirror_mode": {
    "name": "ipython",
    "version": 3
   },
   "file_extension": ".py",
   "mimetype": "text/x-python",
   "name": "python",
   "nbconvert_exporter": "python",
   "pygments_lexer": "ipython3",
   "version": "3.9.13"
  }
 },
 "nbformat": 4,
 "nbformat_minor": 5
}
