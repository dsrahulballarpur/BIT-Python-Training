{
 "cells": [
  {
   "cell_type": "code",
   "execution_count": 1,
   "id": "8731d6c6",
   "metadata": {},
   "outputs": [],
   "source": [
    "import re"
   ]
  },
  {
   "cell_type": "code",
   "execution_count": 8,
   "id": "6db2703a",
   "metadata": {},
   "outputs": [],
   "source": [
    "s = 'AAaeref %34 $ wad 122# 3'"
   ]
  },
  {
   "cell_type": "code",
   "execution_count": 6,
   "id": "434037c9",
   "metadata": {},
   "outputs": [
    {
     "name": "stdout",
     "output_type": "stream",
     "text": [
      "0 ... 1 ... a\n",
      "1 ... 2 ... e\n",
      "3 ... 4 ... e\n",
      "7 ... 8 ... 3\n",
      "13 ... 14 ... a\n",
      "21 ... 22 ... 3\n"
     ]
    }
   ],
   "source": [
    "for i in re.finditer('[ae3]',s):\n",
    "    print(i.start(),'...',i.end(),'...',i.group())"
   ]
  },
  {
   "cell_type": "code",
   "execution_count": null,
   "id": "39e91b96",
   "metadata": {},
   "outputs": [],
   "source": [
    "[abc] - \n",
    "[^abc]"
   ]
  },
  {
   "cell_type": "code",
   "execution_count": 7,
   "id": "9f36ddea",
   "metadata": {},
   "outputs": [
    {
     "name": "stdout",
     "output_type": "stream",
     "text": [
      "2 ... 3 ... r\n",
      "4 ... 5 ... f\n",
      "5 ... 6 ...  \n",
      "6 ... 7 ... %\n",
      "8 ... 9 ... 4\n",
      "9 ... 10 ...  \n",
      "10 ... 11 ... $\n",
      "11 ... 12 ...  \n",
      "12 ... 13 ... w\n",
      "14 ... 15 ... d\n",
      "15 ... 16 ...  \n",
      "16 ... 17 ... 1\n",
      "17 ... 18 ... 2\n",
      "18 ... 19 ... 2\n",
      "19 ... 20 ... #\n",
      "20 ... 21 ...  \n"
     ]
    }
   ],
   "source": [
    "for i in re.finditer('[^ae3]',s):\n",
    "    print(i.start(),'...',i.end(),'...',i.group())"
   ]
  },
  {
   "cell_type": "code",
   "execution_count": 11,
   "id": "09313226",
   "metadata": {},
   "outputs": [
    {
     "name": "stdout",
     "output_type": "stream",
     "text": [
      "2 ... 3 ... a\n",
      "3 ... 4 ... e\n",
      "5 ... 6 ... e\n",
      "15 ... 16 ... a\n",
      "16 ... 17 ... d\n"
     ]
    }
   ],
   "source": [
    "for i in re.finditer('[a-e]',s):\n",
    "    print(i.start(),'...',i.end(),'...',i.group())"
   ]
  },
  {
   "cell_type": "code",
   "execution_count": 12,
   "id": "50bafc26",
   "metadata": {},
   "outputs": [
    {
     "name": "stdout",
     "output_type": "stream",
     "text": [
      "0 ... 1 ... A\n",
      "1 ... 2 ... A\n"
     ]
    }
   ],
   "source": [
    "for i in re.finditer('[A-Z]',s):\n",
    "    print(i.start(),'...',i.end(),'...',i.group())"
   ]
  },
  {
   "cell_type": "code",
   "execution_count": 13,
   "id": "70e9b881",
   "metadata": {},
   "outputs": [
    {
     "name": "stdout",
     "output_type": "stream",
     "text": [
      "0 ... 1 ... A\n",
      "1 ... 2 ... A\n",
      "2 ... 3 ... a\n",
      "3 ... 4 ... e\n",
      "4 ... 5 ... r\n",
      "5 ... 6 ... e\n",
      "6 ... 7 ... f\n",
      "14 ... 15 ... w\n",
      "15 ... 16 ... a\n",
      "16 ... 17 ... d\n"
     ]
    }
   ],
   "source": [
    "for i in re.finditer('[a-zA-Z]',s):\n",
    "    print(i.start(),'...',i.end(),'...',i.group())"
   ]
  },
  {
   "cell_type": "code",
   "execution_count": 15,
   "id": "fe9ab766",
   "metadata": {},
   "outputs": [
    {
     "name": "stdout",
     "output_type": "stream",
     "text": [
      "2 ... 3 ... a\n",
      "3 ... 4 ... e\n",
      "4 ... 5 ... r\n",
      "5 ... 6 ... e\n",
      "14 ... 15 ... w\n",
      "15 ... 16 ... a\n",
      "16 ... 17 ... d\n"
     ]
    }
   ],
   "source": [
    "for i in re.finditer('[a-er-z]',s):\n",
    "    print(i.start(),'...',i.end(),'...',i.group())"
   ]
  },
  {
   "cell_type": "code",
   "execution_count": 16,
   "id": "9ec1e8b2",
   "metadata": {},
   "outputs": [
    {
     "name": "stdout",
     "output_type": "stream",
     "text": [
      "9 ... 10 ... 3\n",
      "10 ... 11 ... 4\n",
      "18 ... 19 ... 1\n",
      "19 ... 20 ... 2\n",
      "20 ... 21 ... 2\n",
      "23 ... 24 ... 3\n"
     ]
    }
   ],
   "source": [
    "for i in re.finditer('[0-9]',s):\n",
    "    print(i.start(),'...',i.end(),'...',i.group())"
   ]
  },
  {
   "cell_type": "code",
   "execution_count": 17,
   "id": "05df20f7",
   "metadata": {},
   "outputs": [
    {
     "name": "stdout",
     "output_type": "stream",
     "text": [
      "0 ... 1 ... A\n",
      "1 ... 2 ... A\n",
      "2 ... 3 ... a\n",
      "3 ... 4 ... e\n",
      "4 ... 5 ... r\n",
      "5 ... 6 ... e\n",
      "6 ... 7 ... f\n",
      "9 ... 10 ... 3\n",
      "10 ... 11 ... 4\n",
      "14 ... 15 ... w\n",
      "15 ... 16 ... a\n",
      "16 ... 17 ... d\n",
      "18 ... 19 ... 1\n",
      "19 ... 20 ... 2\n",
      "20 ... 21 ... 2\n",
      "23 ... 24 ... 3\n"
     ]
    }
   ],
   "source": [
    "for i in re.finditer('[a-zA-Z0-9]',s):\n",
    "    print(i.start(),'...',i.end(),'...',i.group())"
   ]
  },
  {
   "cell_type": "code",
   "execution_count": 18,
   "id": "324cd21e",
   "metadata": {},
   "outputs": [
    {
     "name": "stdout",
     "output_type": "stream",
     "text": [
      "7 ... 8 ...  \n",
      "8 ... 9 ... %\n",
      "11 ... 12 ...  \n",
      "12 ... 13 ... $\n",
      "13 ... 14 ...  \n",
      "17 ... 18 ...  \n",
      "21 ... 22 ... #\n",
      "22 ... 23 ...  \n"
     ]
    }
   ],
   "source": [
    "for i in re.finditer('[^a-zA-Z0-9]',s):\n",
    "    print(i.start(),'...',i.end(),'...',i.group())"
   ]
  },
  {
   "cell_type": "code",
   "execution_count": 19,
   "id": "90db3f3b",
   "metadata": {},
   "outputs": [
    {
     "name": "stdout",
     "output_type": "stream",
     "text": [
      "7 ... 8 ...  \n",
      "11 ... 12 ...  \n",
      "13 ... 14 ...  \n",
      "17 ... 18 ...  \n",
      "22 ... 23 ...  \n"
     ]
    }
   ],
   "source": [
    "for i in re.finditer('\\s',s):\n",
    "    print(i.start(),'...',i.end(),'...',i.group())"
   ]
  },
  {
   "cell_type": "code",
   "execution_count": 20,
   "id": "f914ee87",
   "metadata": {},
   "outputs": [
    {
     "name": "stdout",
     "output_type": "stream",
     "text": [
      "0 ... 1 ... A\n",
      "1 ... 2 ... A\n",
      "2 ... 3 ... a\n",
      "3 ... 4 ... e\n",
      "4 ... 5 ... r\n",
      "5 ... 6 ... e\n",
      "6 ... 7 ... f\n",
      "8 ... 9 ... %\n",
      "9 ... 10 ... 3\n",
      "10 ... 11 ... 4\n",
      "12 ... 13 ... $\n",
      "14 ... 15 ... w\n",
      "15 ... 16 ... a\n",
      "16 ... 17 ... d\n",
      "18 ... 19 ... 1\n",
      "19 ... 20 ... 2\n",
      "20 ... 21 ... 2\n",
      "21 ... 22 ... #\n",
      "23 ... 24 ... 3\n"
     ]
    }
   ],
   "source": [
    "for i in re.finditer('\\S',s):\n",
    "    print(i.start(),'...',i.end(),'...',i.group())"
   ]
  },
  {
   "cell_type": "code",
   "execution_count": 21,
   "id": "72ec4bf8",
   "metadata": {},
   "outputs": [
    {
     "name": "stdout",
     "output_type": "stream",
     "text": [
      "9 ... 10 ... 3\n",
      "10 ... 11 ... 4\n",
      "18 ... 19 ... 1\n",
      "19 ... 20 ... 2\n",
      "20 ... 21 ... 2\n",
      "23 ... 24 ... 3\n"
     ]
    }
   ],
   "source": [
    "for i in re.finditer('\\d',s):\n",
    "    print(i.start(),'...',i.end(),'...',i.group())"
   ]
  },
  {
   "cell_type": "code",
   "execution_count": 22,
   "id": "317b6042",
   "metadata": {},
   "outputs": [
    {
     "name": "stdout",
     "output_type": "stream",
     "text": [
      "0 ... 1 ... A\n",
      "1 ... 2 ... A\n",
      "2 ... 3 ... a\n",
      "3 ... 4 ... e\n",
      "4 ... 5 ... r\n",
      "5 ... 6 ... e\n",
      "6 ... 7 ... f\n",
      "7 ... 8 ...  \n",
      "8 ... 9 ... %\n",
      "11 ... 12 ...  \n",
      "12 ... 13 ... $\n",
      "13 ... 14 ...  \n",
      "14 ... 15 ... w\n",
      "15 ... 16 ... a\n",
      "16 ... 17 ... d\n",
      "17 ... 18 ...  \n",
      "21 ... 22 ... #\n",
      "22 ... 23 ...  \n"
     ]
    }
   ],
   "source": [
    "for i in re.finditer('\\D',s):\n",
    "    print(i.start(),'...',i.end(),'...',i.group())"
   ]
  },
  {
   "cell_type": "code",
   "execution_count": 23,
   "id": "78bcfa6c",
   "metadata": {},
   "outputs": [
    {
     "name": "stdout",
     "output_type": "stream",
     "text": [
      "0 ... 1 ... A\n",
      "1 ... 2 ... A\n",
      "2 ... 3 ... a\n",
      "3 ... 4 ... e\n",
      "4 ... 5 ... r\n",
      "5 ... 6 ... e\n",
      "6 ... 7 ... f\n",
      "9 ... 10 ... 3\n",
      "10 ... 11 ... 4\n",
      "14 ... 15 ... w\n",
      "15 ... 16 ... a\n",
      "16 ... 17 ... d\n",
      "18 ... 19 ... 1\n",
      "19 ... 20 ... 2\n",
      "20 ... 21 ... 2\n",
      "23 ... 24 ... 3\n"
     ]
    }
   ],
   "source": [
    "for i in re.finditer('\\w',s):\n",
    "    print(i.start(),'...',i.end(),'...',i.group())"
   ]
  },
  {
   "cell_type": "code",
   "execution_count": 24,
   "id": "4908724e",
   "metadata": {},
   "outputs": [
    {
     "name": "stdout",
     "output_type": "stream",
     "text": [
      "7 ... 8 ...  \n",
      "8 ... 9 ... %\n",
      "11 ... 12 ...  \n",
      "12 ... 13 ... $\n",
      "13 ... 14 ...  \n",
      "17 ... 18 ...  \n",
      "21 ... 22 ... #\n",
      "22 ... 23 ...  \n"
     ]
    }
   ],
   "source": [
    "for i in re.finditer('\\W',s):\n",
    "    print(i.start(),'...',i.end(),'...',i.group())"
   ]
  },
  {
   "cell_type": "code",
   "execution_count": 26,
   "id": "05742eef",
   "metadata": {},
   "outputs": [],
   "source": [
    "#fullmatch\n",
    "#match\n",
    "#findall\n",
    "#search\n",
    "#sub\n",
    "#subn\n",
    "#split"
   ]
  },
  {
   "cell_type": "code",
   "execution_count": 29,
   "id": "38413ecd",
   "metadata": {},
   "outputs": [
    {
     "name": "stdout",
     "output_type": "stream",
     "text": [
      "What you looking for: Python is very\n"
     ]
    },
    {
     "data": {
      "text/plain": [
       "<re.Match object; span=(0, 14), match='Python is very'>"
      ]
     },
     "execution_count": 29,
     "metadata": {},
     "output_type": "execute_result"
    }
   ],
   "source": [
    "s = 'Python is very powerful'\n",
    "lf = input('What you looking for: ')\n",
    "re.match(lf,s)"
   ]
  },
  {
   "cell_type": "code",
   "execution_count": 32,
   "id": "9de1ea2d",
   "metadata": {},
   "outputs": [
    {
     "name": "stdout",
     "output_type": "stream",
     "text": [
      "What you looking for: Python is very powerful\n"
     ]
    },
    {
     "data": {
      "text/plain": [
       "<re.Match object; span=(0, 23), match='Python is very powerful'>"
      ]
     },
     "execution_count": 32,
     "metadata": {},
     "output_type": "execute_result"
    }
   ],
   "source": [
    "s = 'Python is very powerful'\n",
    "lf = input('What you looking for: ')\n",
    "re.fullmatch(lf,s)"
   ]
  },
  {
   "cell_type": "code",
   "execution_count": 34,
   "id": "d15b72a9",
   "metadata": {},
   "outputs": [
    {
     "name": "stdout",
     "output_type": "stream",
     "text": [
      "What you looking for: ful\n"
     ]
    },
    {
     "data": {
      "text/plain": [
       "<re.Match object; span=(20, 23), match='ful'>"
      ]
     },
     "execution_count": 34,
     "metadata": {},
     "output_type": "execute_result"
    }
   ],
   "source": [
    "s = 'Python is very powerful'\n",
    "lf = input('What you looking for: ')\n",
    "re.search(lf,s)"
   ]
  },
  {
   "cell_type": "code",
   "execution_count": 37,
   "id": "4ed7d6cf",
   "metadata": {},
   "outputs": [
    {
     "name": "stdout",
     "output_type": "stream",
     "text": [
      "What you looking for: Python\n",
      "Your resume is rejected\n"
     ]
    }
   ],
   "source": [
    "resume = 'Python is very powerful, Python is Python, Python is amazing'\n",
    "lf = input('What you looking for: ')\n",
    "output =re.findall(lf,resume)\n",
    "if len(output)>5:\n",
    "    print('Your resume is selected')\n",
    "else:\n",
    "    print('Your resume is rejected')"
   ]
  },
  {
   "cell_type": "code",
   "execution_count": 39,
   "id": "1208c1c1",
   "metadata": {},
   "outputs": [
    {
     "data": {
      "text/plain": [
       "'Java is very powerful, Java is Java, Java is amazing'"
      ]
     },
     "execution_count": 39,
     "metadata": {},
     "output_type": "execute_result"
    }
   ],
   "source": [
    "resume = 'Python is very powerful, Python is Python, Python is amazing'\n",
    "re.sub('Python','Java',resume)"
   ]
  },
  {
   "cell_type": "code",
   "execution_count": 41,
   "id": "723f01df",
   "metadata": {},
   "outputs": [],
   "source": [
    "resume = 'Python is very powerful, Python is Python, Python is amazing'\n",
    "o =re.subn('Python','Java',resume)"
   ]
  },
  {
   "cell_type": "code",
   "execution_count": 43,
   "id": "01e4e94f",
   "metadata": {},
   "outputs": [
    {
     "data": {
      "text/plain": [
       "4"
      ]
     },
     "execution_count": 43,
     "metadata": {},
     "output_type": "execute_result"
    }
   ],
   "source": [
    "o[1]"
   ]
  },
  {
   "cell_type": "code",
   "execution_count": 47,
   "id": "d9f63d80",
   "metadata": {},
   "outputs": [
    {
     "name": "stdout",
     "output_type": "stream",
     "text": [
      "1 ... 2 ... d\n",
      "4 ... 5 ... d\n",
      "8 ... 9 ... d\n",
      "13 ... 14 ... d\n"
     ]
    }
   ],
   "source": [
    "s = 'cdccdcccdccccd'\n",
    "for i in re.finditer('[^c]',s):\n",
    "    print(i.start(),'...',i.end(),'...',i.group())"
   ]
  },
  {
   "cell_type": "code",
   "execution_count": 50,
   "id": "4d1187e2",
   "metadata": {},
   "outputs": [
    {
     "name": "stdout",
     "output_type": "stream",
     "text": [
      "0 ... 1 ... c\n"
     ]
    }
   ],
   "source": [
    "s = 'cdccdcccdccccd'\n",
    "for i in re.finditer('^c',s):\n",
    "    print(i.start(),'...',i.end(),'...',i.group())"
   ]
  },
  {
   "cell_type": "code",
   "execution_count": 51,
   "id": "6f4c762e",
   "metadata": {},
   "outputs": [
    {
     "name": "stdout",
     "output_type": "stream",
     "text": [
      "13 ... 14 ... d\n"
     ]
    }
   ],
   "source": [
    "s = 'cdccdcccdccccd'\n",
    "for i in re.finditer('d$',s):\n",
    "    print(i.start(),'...',i.end(),'...',i.group())"
   ]
  },
  {
   "cell_type": "code",
   "execution_count": 52,
   "id": "c0264fac",
   "metadata": {},
   "outputs": [
    {
     "name": "stdout",
     "output_type": "stream",
     "text": [
      "0 ... 1 ... c\n",
      "2 ... 4 ... cc\n",
      "5 ... 8 ... ccc\n",
      "9 ... 13 ... cccc\n"
     ]
    }
   ],
   "source": [
    "s = 'cdccdcccdccccd'\n",
    "for i in re.finditer('c+',s):\n",
    "    print(i.start(),'...',i.end(),'...',i.group())"
   ]
  },
  {
   "cell_type": "code",
   "execution_count": 53,
   "id": "270a93cb",
   "metadata": {},
   "outputs": [
    {
     "name": "stdout",
     "output_type": "stream",
     "text": [
      "2 ... 4 ... cc\n",
      "5 ... 7 ... cc\n",
      "9 ... 11 ... cc\n",
      "11 ... 13 ... cc\n"
     ]
    }
   ],
   "source": [
    "s = 'cdccdcccdccccd'\n",
    "for i in re.finditer('c{2}',s):\n",
    "    print(i.start(),'...',i.end(),'...',i.group())"
   ]
  },
  {
   "cell_type": "code",
   "execution_count": 54,
   "id": "9308b958",
   "metadata": {},
   "outputs": [
    {
     "name": "stdout",
     "output_type": "stream",
     "text": [
      "2 ... 4 ... cc\n",
      "5 ... 8 ... ccc\n",
      "9 ... 12 ... ccc\n"
     ]
    }
   ],
   "source": [
    "s = 'cdccdcccdccccd'\n",
    "for i in re.finditer('c{2,3}',s):\n",
    "    print(i.start(),'...',i.end(),'...',i.group())"
   ]
  },
  {
   "cell_type": "code",
   "execution_count": 55,
   "id": "b9a0d378",
   "metadata": {},
   "outputs": [
    {
     "data": {
      "text/plain": [
       "['rahul', 'tiwari', 'data', 'science', 'python']"
      ]
     },
     "execution_count": 55,
     "metadata": {},
     "output_type": "execute_result"
    }
   ],
   "source": [
    "s = 'rahul-tiwari-data-science-python'\n",
    "re.split('-',s)"
   ]
  },
  {
   "cell_type": "code",
   "execution_count": 57,
   "id": "1b998b7b",
   "metadata": {},
   "outputs": [
    {
     "data": {
      "text/plain": [
       "['www', 'bit', 'com']"
      ]
     },
     "execution_count": 57,
     "metadata": {},
     "output_type": "execute_result"
    }
   ],
   "source": [
    "s='www.bit.com'\n",
    "re.split('\\.',s)"
   ]
  },
  {
   "cell_type": "code",
   "execution_count": 58,
   "id": "eba57ba2",
   "metadata": {},
   "outputs": [
    {
     "data": {
      "text/plain": [
       "['www', 'bit', 'com']"
      ]
     },
     "execution_count": 58,
     "metadata": {},
     "output_type": "execute_result"
    }
   ],
   "source": [
    "s='www.bit.com'\n",
    "re.split('[.]',s)"
   ]
  },
  {
   "cell_type": "code",
   "execution_count": 59,
   "id": "7cd110fd",
   "metadata": {},
   "outputs": [],
   "source": [
    "#1. Alphabets,numbers and #\n",
    "#2. First character - a-k\n",
    "#3. Second character - 0,3,6,9\n",
    "#4.a The length of password - should be atleast 5\n",
    "#4.b The length of password - Should be exactly 5"
   ]
  },
  {
   "cell_type": "code",
   "execution_count": 68,
   "id": "2051b642",
   "metadata": {},
   "outputs": [
    {
     "name": "stdout",
     "output_type": "stream",
     "text": [
      "Enter the password: a3###\n",
      "Valid passowrd\n"
     ]
    }
   ],
   "source": [
    "password = input('Enter the password: ')\n",
    "if re.fullmatch('[a-k][0369][a-zA-Z0-9#]{3,}',password)!=None:\n",
    "    print('Valid passowrd')\n",
    "else:\n",
    "    print('Invalid')"
   ]
  },
  {
   "cell_type": "code",
   "execution_count": null,
   "id": "ef8b21d2",
   "metadata": {},
   "outputs": [],
   "source": [
    "a3###\n",
    "a3##\n",
    "a23##\n",
    "a3########"
   ]
  },
  {
   "cell_type": "code",
   "execution_count": 69,
   "id": "281105b6",
   "metadata": {},
   "outputs": [
    {
     "name": "stdout",
     "output_type": "stream",
     "text": [
      "Enter the password: a3#####\n",
      "Invalid\n"
     ]
    }
   ],
   "source": [
    "password = input('Enter the password: ')\n",
    "if re.fullmatch('[a-k][0369][a-zA-Z0-9#]{3}',password)!=None:\n",
    "    print('Valid passowrd')\n",
    "else:\n",
    "    print('Invalid')"
   ]
  },
  {
   "cell_type": "code",
   "execution_count": 71,
   "id": "790c9ef7",
   "metadata": {},
   "outputs": [
    {
     "name": "stdout",
     "output_type": "stream",
     "text": [
      "Enter the password: a####3\n",
      "Invalid\n"
     ]
    }
   ],
   "source": [
    "password = input('Enter the password: ')\n",
    "if re.fullmatch('[a-k][a-zA-Z0-9#]{3}[0369]',password)!=None:\n",
    "    print('Valid passowrd')\n",
    "else:\n",
    "    print('Invalid')"
   ]
  },
  {
   "cell_type": "code",
   "execution_count": 74,
   "id": "1e44be30",
   "metadata": {},
   "outputs": [
    {
     "name": "stdout",
     "output_type": "stream",
     "text": [
      "Enter your password : a3###\n"
     ]
    },
    {
     "ename": "SyntaxError",
     "evalue": "'break' outside loop (3463814003.py, line 6)",
     "output_type": "error",
     "traceback": [
      "\u001b[1;36m  File \u001b[1;32m\"C:\\Users\\rahul\\AppData\\Local\\Temp\\ipykernel_13416\\3463814003.py\"\u001b[1;36m, line \u001b[1;32m6\u001b[0m\n\u001b[1;33m    break\u001b[0m\n\u001b[1;37m    ^\u001b[0m\n\u001b[1;31mSyntaxError\u001b[0m\u001b[1;31m:\u001b[0m 'break' outside loop\n"
     ]
    }
   ],
   "source": [
    "import re\n",
    "str1 = input(\"Enter your password : \")\n",
    "if len(str1) >= 5:\n",
    "    if re.findiiter('^[a-zA-Z0-9#]',str1):\n",
    "        print(\"please enter a valid password\")\n",
    "        break\n",
    "    elif re.findiiter('^[a-k]',str1[0]):\n",
    "        print(\"please enter a valid password\")\n",
    "        break\n",
    "    elif re.findiiter('^[0369]',str1[1]):\n",
    "        print(\"please enter a valid password\")\n",
    "        break\n",
    "    else:\n",
    "        print(\"your password is valid\")"
   ]
  },
  {
   "cell_type": "code",
   "execution_count": 77,
   "id": "5a9848da",
   "metadata": {},
   "outputs": [
    {
     "data": {
      "text/plain": [
       "<re.Match object; span=(0, 6), match='Python'>"
      ]
     },
     "execution_count": 77,
     "metadata": {},
     "output_type": "execute_result"
    }
   ],
   "source": [
    "s= 'Python is very powerful'\n",
    "re.search('^python',s,re.IGNORECASE)"
   ]
  },
  {
   "cell_type": "code",
   "execution_count": 78,
   "id": "d102f1f3",
   "metadata": {},
   "outputs": [
    {
     "data": {
      "text/plain": [
       "<re.Match object; span=(15, 23), match='powerful'>"
      ]
     },
     "execution_count": 78,
     "metadata": {},
     "output_type": "execute_result"
    }
   ],
   "source": [
    "s= 'Python is very powerful'\n",
    "re.search('POWERFUL$',s,re.IGNORECASE)"
   ]
  },
  {
   "cell_type": "code",
   "execution_count": 79,
   "id": "44f9c1f9",
   "metadata": {},
   "outputs": [],
   "source": [
    "data= '''<li>Cecilia Chapman<br/>711-2880 Nulla St.<br/>Mankato Mississippi 96522<br/>(257) 563-7401</li>\n",
    "<li>Iris Watson<br/>P.O. Box 283 8562 Fusce Rd.<br/>Frederick Nebraska 20620<br/>(372) 587-2335</li>\n",
    "<li>Celeste Slater<br/>606-3727 Ullamcorper. Street<br/>Roseville NH 11523<br/>(786) 713-8616</li>\n",
    "<li>Theodore Lowe<br/>Ap #867-859 Sit Rd.<br/>Azusa New York 39531<br/>(793) 151-6230</li>\n",
    "<li>Calista Wise<br/>7292 Dictum Av.<br/>San Antonio MI 47096<br/>(492) 709-6392</li>\n",
    "<li>Kyla Olsen<br/>Ap #651-8679 Sodales Av.<br/>Tamuning PA 10855<br/>(654) 393-5734</li>\n",
    "<li>Forrest Ray<br/>191-103 Integer Rd.<br/>Corona New Mexico 08219<br/>(404) 960-3807</li>\n",
    "<li>Hiroko Potter<br/>P.O. Box 887 2508 Dolor. Av.<br/>Muskegon KY 12482<br/>(314) 244-6306</li>\n",
    "<li>Nyssa Vazquez<br/>511-5762 At Rd.<br/>Chelsea MI 67708<br/>(947) 278-5929</li>\n",
    "<li>Lawrence Moreno<br/>935-9940 Tortor. Street<br/>Santa Rosa MN 98804<br/>(684) 579-1879</li>\n",
    "<li>Ina Moran<br/>P.O. Box 929 4189 Nunc Road<br/>Lebanon KY 69409<br/>(389) 737-2852</li>\n",
    "<li>Aaron Hawkins<br/>5587 Nunc. Avenue<br/>Erie Rhode Island 24975<br/>(660) 663-4518</li>\n",
    "<li>Hedy Greene<br/>Ap #696-3279 Viverra. Avenue<br/>Latrobe DE 38100<br/>(608) 265-2215</li>\n",
    "<li>Melvin Porter<br/>P.O. Box 132 1599 Curabitur Rd.<br/>Bandera South Dakota 45149<br/>(959) 119-8364</li>\n",
    "<li>Keefe Sellers<br/>347-7666 Iaculis St.<br/>Woodruff SC 49854<br/>(468) 353-2641</li>\n",
    "<li>Joan Romero<br/>666-4366 Lacinia Avenue<br/>Idaho Falls Ohio 19253<br/>(248) 675-4007</li>\n",
    "<li>Davis Patrick<br/>P.O. Box 147 2546 Sociosqu Rd.<br/>Bethlehem Utah 02913<br/>(939) 353-1107</li>\n",
    "<li>Leilani Boyer<br/>557-6308 Lacinia Road<br/>San Bernardino ND 09289<br/>(570) 873-7090</li>\n",
    "<li>Colby Bernard<br/>Ap #285-7193 Ullamcorper Avenue<br/>Amesbury HI 93373<br/>(302) 259-2375</li>\n",
    "<li>Bryar Pitts<br/>5543 Aliquet St.<br/>Fort Dodge GA 20783<br/>(717) 450-4729</li>\n",
    "<li>Rahim Henderson<br/>5037 Diam Rd.<br/>Daly City Ohio 90255<br/>(453) 391-4650</li>\n",
    "<li>Noelle Adams<br/>6351 Fringilla Avenue<br/>Gardena Colorado 37547<br/>(559) 104-5475</li>\n",
    "<li>Lillith Daniel<br/>935-1670 Neque. St.<br/>Centennial Delaware 48432<br/>(387) 142-9434</li>\n",
    "<li>Adria Russell<br/>414-7533 Non Rd.<br/>Miami Beach North Dakota 58563<br/>(516) 745-4496</li>\n",
    "<li>Hilda Haynes<br/>778-9383 Suspendisse Av.<br/>Weirton IN 93479<br/>(326) 677-3419</li>\n",
    "<li>Sheila Mcintosh<br/>P.O. Box 360 4407 Et Rd.<br/>Santa Monica FL 30309<br/>(746) 679-2470</li>\n",
    "<li>Rebecca Chambers<br/>P.O. Box 813 5982 Sit Ave<br/>Liberal Vermont 51324<br/>(455) 430-0989</li>\n",
    "<li>Christian Emerson<br/>P.O. Box 886 4118 Arcu St.<br/>Rolling Hills Georgia 92358<br/>(490) 936-4694</li>\n",
    "<li>Nevada Ware<br/>P.O. Box 597 4156 Tincidunt Ave<br/>Green Bay Indiana 19759<br/>(985) 834-8285</li>\n",
    "<li>Margaret Joseph<br/>P.O. Box 508 3919 Gravida St.<br/>Tamuning Washington 55797<br/>(662) 661-1446</li>\n",
    "<li>Edward Nieves<br/>928-3313 Vel Av.<br/>Idaho Falls Rhode Island 37232<br/>(802) 668-8240</li>\n",
    "<li>Imani Talley<br/>P.O. Box 262 4978 Sit St.<br/>Yigo Massachusetts 50654<br/>(477) 768-9247</li>\n",
    "<li>Bertha Riggs<br/>P.O. Box 206 6639 In St.<br/>Easthampton TN 31626<br/>(791) 239-9057</li>\n",
    "<li>Wallace Ross<br/>313 Pellentesque Ave<br/>Villa Park Hawaii 43526<br/>(832) 109-0213</li>\n",
    "<li>Chester Bennett<br/>3476 Aliquet. Ave<br/>Minot AZ 95302<br/>(837) 196-3274</li>\n",
    "<li>Castor Richardson<br/>P.O. Box 902 3472 Ullamcorper Street<br/>Lynchburg DC 29738<br/>(268) 442-2428</li>\n",
    "<li>Sonya Jordan<br/>Ap #443-336 Ullamcorper. Street<br/>Visalia VA 54886<br/>(850) 676-5117</li>\n",
    "<li>Harrison Mcguire<br/>574-8633 Arcu Street<br/>San Fernando ID 77373<br/>(861) 546-5032</li>\n",
    "<li>Malcolm Long<br/>9291 Proin Road<br/>Lake Charles Maine 11292<br/>(176) 805-4108</li>\n",
    "<li>Raymond Levy<br/>Ap #643-7006 Risus St.<br/>Beaumont New Mexico 73585<br/>(715) 912-6931</li>\n",
    "<li>Hedley Ingram<br/>737-2580 At Street<br/>Independence Texas 87535<br/>(993) 554-0563</li>\n",
    "<li>David Mathews<br/>1011 Malesuada Road<br/>Moscow Kentucky 77382<br/>(357) 616-5411</li>\n",
    "<li>Xyla Cash<br/>969-1762 Tincidunt Rd.<br/>Boise CT 35282<br/>(121) 347-0086</li>\n",
    "<li>Madeline Gregory<br/>977-4841 Ut Ave<br/>Walla Walla Michigan 82776<br/>(304) 506-6314</li>\n",
    "<li>Griffith Daniels<br/>6818 Eget St.<br/>Tacoma AL 92508<br/>(425) 288-2332</li>\n",
    "<li>Anne Beasley<br/>987-4223 Urna St.<br/>Savannah Illinois 85794<br/>(145) 987-4962</li>\n",
    "<li>Chaney Bennett<br/>P.O. Box 721 902 Dolor Rd.<br/>Fremont AK 19408<br/>(187) 582-9707</li>\n",
    "<li>Daniel Bernard<br/>P.O. Box 567 1561 Duis Rd.<br/>Pomona TN 08609<br/>(750) 558-3965</li>\n",
    "<li>Willow Hunt<br/>Ap #784-1887 Lobortis Ave<br/>Cudahy Ohio 31522<br/>(492) 467-3131</li>\n",
    "<li>Judith Floyd<br/>361-7936 Feugiat St.<br/>Williston Nevada 58521<br/>(774) 914-2510</li>\n",
    "<li>Seth Farley<br/>6216 Aenean Avenue<br/>Seattle Utah 81202<br/>(888) 106-8550</li>\n",
    "<li>Zephania Sanders<br/>3714 Nascetur St.<br/>Hawthorne Louisiana 10626<br/>(539) 567-3573</li>\n",
    "<li>Calista Merritt<br/>Ap #938-5470 Posuere Ave<br/>Chickasha LA 58520<br/>(693) 337-2849</li>\n",
    "<li>Craig Williams<br/>P.O. Box 372 5634 Montes Rd.<br/>Springdale MO 57692<br/>(545) 604-9386</li>\n",
    "<li>Lee Preston<br/>981 Eget Rd.<br/>Clemson GA 04645<br/>(221) 156-5026</li>\n",
    "<li>Katelyn Cooper<br/>6059 Sollicitudin Road<br/>Burlingame Colorado 26278<br/>(414) 876-0865</li>\n",
    "<li>Lacy Eaton<br/>1379 Nulla. Av.<br/>Asbury Park Montana 69679<br/>(932) 726-8645</li>\n",
    "<li>Driscoll Leach<br/>P.O. Box 120 2410 Odio Avenue<br/>Pass Christian Delaware 03869<br/>(726) 710-9826</li>\n",
    "<li>Merritt Watson<br/>P.O. Box 686 7014 Amet Street<br/>Corona Oklahoma 55246<br/>(622) 594-1662</li>\n",
    "<li>Nehru Holmes<br/>P.O. Box 547 4764 Sed Road<br/>Grand Rapids CT 87323<br/>(948) 600-8503</li>\n",
    "<li>Quamar Rivera<br/>427-5827 Ac St.<br/>Schaumburg Arkansas 84872<br/>(605) 900-7508</li>\n",
    "<li>Hiram Mullins<br/>754-6427 Nunc Ave<br/>Kennewick AL 41329<br/>(716) 977-5775</li>\n",
    "<li>Kim Fletcher<br/>Ap #345-3847 Metus Road<br/>Independence CO 30135<br/>(368) 239-8275</li>\n",
    "<li>Rigel Koch<br/>P.O. Box 558 9561 Lacus. Road<br/>Laughlin Hawaii 99602<br/>(725) 342-0650</li>\n",
    "<li>Jeanette Sharpe<br/>Ap #364-2006 Ipsum Avenue<br/>Wilmington Ohio 91750<br/>(711) 993-5187</li>\n",
    "<li>Dahlia Lee<br/>1293 Tincidunt Street<br/>Atwater Pennsylvania 76865<br/>(882) 399-5084</li>\n",
    "<li>Howard Hayden<br/>P.O. Box 847 8019 Facilisis Street<br/>Joliet SC 73490<br/>(287) 755-9948</li>\n",
    "<li>Hyatt Kramer<br/>1011 Massa Av.<br/>Kent ID 63725<br/>(659) 551-3389</li>\n",
    "<li>Sonya Ray<br/>Ap #315-8441 Eleifend Street<br/>Fairbanks RI 96892<br/>(275) 730-6868</li>\n",
    "<li>Cara Whitehead<br/>4005 Praesent St.<br/>Torrance Wyoming 22767<br/>(725) 757-4047</li>\n",
    "<li>Blythe Carroll<br/>7709 Justo. Ave<br/>Princeton TX 77987<br/>(314) 882-1496</li>\n",
    "<li>Dale Griffin<br/>P.O. Box 854 8580 In Ave<br/>Revere South Dakota 43841<br/>(639) 360-7590</li>\n",
    "<li>McKenzie Hernandez<br/>Ap #367-674 Mi Street<br/>Greensboro VT 40684<br/>(168) 222-1592</li>\n",
    "<li>Haviva Holcomb<br/>P.O. Box 642 3450 In Road<br/>Isle of Palms New York 03828<br/>(896) 303-1164</li>\n",
    "<li>Ezra Duffy<br/>Ap #782-7348 Dis Rd.<br/>Austin KY 50710<br/>(203) 982-6130</li>\n",
    "<li>Eleanor Jennings<br/>9631 Semper Ave<br/>Astoria NJ 66309<br/>(906) 217-1470</li>\n",
    "<li>Remedios Hester<br/>487-5787 Mollis St.<br/>City of Industry Louisiana 67973<br/>(614) 514-1269</li>\n",
    "<li>Jasper Carney<br/>1195 Lobortis Rd.<br/>New Orleans New Hampshire 71983<br/>(763) 409-5446</li>\n",
    "<li>Vielka Nielsen<br/>Ap #517-7326 Elementum Rd.<br/>Fort Smith North Dakota 79637<br/>(836) 292-5324</li>\n",
    "<li>Wilma Pace<br/>Ap #676-6532 Odio Rd.<br/>Darlington CO 06963<br/>(926) 709-3295</li>\n",
    "<li>Palmer Gay<br/>557-2026 Purus St.<br/>Watertown TN 07367<br/>(963) 356-9268</li>\n",
    "<li>Lyle Sutton<br/>Ap #250-9843 Elementum St.<br/>South Gate Missouri 68999<br/>(736) 522-8584</li>\n",
    "<li>Ina Burt<br/>Ap #130-1685 Ut Street<br/>Tyler KS 73510<br/>(410) 483-0352</li>\n",
    "<li>Cleo Best<br/>282-8351 Tincidunt Ave<br/>Sedalia Utah 53700<br/>(252) 204-1434</li>\n",
    "<li>Hu Park<br/>1429 Netus Rd.<br/>Reedsport NY 48247<br/>(874) 886-4174</li>\n",
    "<li>Liberty Walton<br/>343-6527 Purus. Avenue<br/>Logan NV 12657<br/>(581) 379-7573</li>\n",
    "<li>Aaron Trujillo<br/>Ap #146-3132 Cras Rd.<br/>Kingsport NH 56618<br/>(983) 632-8597</li>\n",
    "<li>Elmo Lopez<br/>Ap #481-7473 Cum Rd.<br/>Yorba Linda South Carolina 28423<br/>(295) 983-3476</li>\n",
    "<li>Emerson Espinoza<br/>Ap #247-5577 Tincidunt St.<br/>Corpus Christi WI 97020<br/>(873) 392-8802</li>\n",
    "<li>Daniel Malone<br/>2136 Adipiscing Av.<br/>Lima RI 93490<br/>(360) 669-3923</li>\n",
    "<li>Dante Bennett<br/>481-8762 Nulla Street<br/>Dearborn OR 62401<br/>(840) 987-9449</li>\n",
    "<li>Sade Higgins<br/>Ap #287-3260 Ut St.<br/>Wilmington OR 05182<br/>(422) 517-6053</li>\n",
    "<li>Zorita Anderson<br/>1964 Facilisis Avenue<br/>Bell Gardens Texas 87065<br/>(126) 940-2753</li>\n",
    "<li>Jordan Calderon<br/>430-985 Eleifend St.<br/>Duluth Washington 92611<br/>(427) 930-5255</li>\n",
    "<li>Ivor Delgado<br/>Ap #310-1678 Ut Av.<br/>Santa Barbara MT 88317<br/>(689) 721-5145</li>\n",
    "<li>Pascale Patton<br/>P.O. Box 399 4275 Amet Street<br/>West Allis NC 36734<br/>(676) 334-2174</li>\n",
    "<li>Nasim Strong<br/>Ap #630-3889 Nulla. Street<br/>Watervliet Oklahoma 70863<br/>(437) 994-5270</li>\n",
    "<li>Keaton Underwood<br/>Ap #636-8082 Arcu Avenue<br/>Thiensville Maryland 19587<br/>(564) 908-6970</li>\n",
    "<li>Keegan Blair<br/>Ap #761-2515 Egestas. Rd.<br/>Manitowoc TN 07528<br/>(577) 333-6244</li>\n",
    "<li>Tamara Howe<br/>3415 Lobortis. Avenue<br/>Rocky Mount WA 48580<br/>(655) 840-6139</li>\n",
    " </ul> </body></html>\n",
    "'''"
   ]
  },
  {
   "cell_type": "code",
   "execution_count": 82,
   "id": "600c42c7",
   "metadata": {},
   "outputs": [
    {
     "data": {
      "text/plain": [
       "['(257) 563-7401',\n",
       " '(372) 587-2335',\n",
       " '(786) 713-8616',\n",
       " '(793) 151-6230',\n",
       " '(492) 709-6392',\n",
       " '(654) 393-5734',\n",
       " '(404) 960-3807',\n",
       " '(314) 244-6306',\n",
       " '(947) 278-5929',\n",
       " '(684) 579-1879',\n",
       " '(389) 737-2852',\n",
       " '(660) 663-4518',\n",
       " '(608) 265-2215',\n",
       " '(959) 119-8364',\n",
       " '(468) 353-2641',\n",
       " '(248) 675-4007',\n",
       " '(939) 353-1107',\n",
       " '(570) 873-7090',\n",
       " '(302) 259-2375',\n",
       " '(717) 450-4729',\n",
       " '(453) 391-4650',\n",
       " '(559) 104-5475',\n",
       " '(387) 142-9434',\n",
       " '(516) 745-4496',\n",
       " '(326) 677-3419',\n",
       " '(746) 679-2470',\n",
       " '(455) 430-0989',\n",
       " '(490) 936-4694',\n",
       " '(985) 834-8285',\n",
       " '(662) 661-1446',\n",
       " '(802) 668-8240',\n",
       " '(477) 768-9247',\n",
       " '(791) 239-9057',\n",
       " '(832) 109-0213',\n",
       " '(837) 196-3274',\n",
       " '(268) 442-2428',\n",
       " '(850) 676-5117',\n",
       " '(861) 546-5032',\n",
       " '(176) 805-4108',\n",
       " '(715) 912-6931',\n",
       " '(993) 554-0563',\n",
       " '(357) 616-5411',\n",
       " '(121) 347-0086',\n",
       " '(304) 506-6314',\n",
       " '(425) 288-2332',\n",
       " '(145) 987-4962',\n",
       " '(187) 582-9707',\n",
       " '(750) 558-3965',\n",
       " '(492) 467-3131',\n",
       " '(774) 914-2510',\n",
       " '(888) 106-8550',\n",
       " '(539) 567-3573',\n",
       " '(693) 337-2849',\n",
       " '(545) 604-9386',\n",
       " '(221) 156-5026',\n",
       " '(414) 876-0865',\n",
       " '(932) 726-8645',\n",
       " '(726) 710-9826',\n",
       " '(622) 594-1662',\n",
       " '(948) 600-8503',\n",
       " '(605) 900-7508',\n",
       " '(716) 977-5775',\n",
       " '(368) 239-8275',\n",
       " '(725) 342-0650',\n",
       " '(711) 993-5187',\n",
       " '(882) 399-5084',\n",
       " '(287) 755-9948',\n",
       " '(659) 551-3389',\n",
       " '(275) 730-6868',\n",
       " '(725) 757-4047',\n",
       " '(314) 882-1496',\n",
       " '(639) 360-7590',\n",
       " '(168) 222-1592',\n",
       " '(896) 303-1164',\n",
       " '(203) 982-6130',\n",
       " '(906) 217-1470',\n",
       " '(614) 514-1269',\n",
       " '(763) 409-5446',\n",
       " '(836) 292-5324',\n",
       " '(926) 709-3295',\n",
       " '(963) 356-9268',\n",
       " '(736) 522-8584',\n",
       " '(410) 483-0352',\n",
       " '(252) 204-1434',\n",
       " '(874) 886-4174',\n",
       " '(581) 379-7573',\n",
       " '(983) 632-8597',\n",
       " '(295) 983-3476',\n",
       " '(873) 392-8802',\n",
       " '(360) 669-3923',\n",
       " '(840) 987-9449',\n",
       " '(422) 517-6053',\n",
       " '(126) 940-2753',\n",
       " '(427) 930-5255',\n",
       " '(689) 721-5145',\n",
       " '(676) 334-2174',\n",
       " '(437) 994-5270',\n",
       " '(564) 908-6970',\n",
       " '(577) 333-6244',\n",
       " '(655) 840-6139']"
      ]
     },
     "execution_count": 82,
     "metadata": {},
     "output_type": "execute_result"
    }
   ],
   "source": [
    "re.findall('\\(\\d{3}\\) \\d{3}-\\d{4}',data)"
   ]
  },
  {
   "cell_type": "code",
   "execution_count": 85,
   "id": "5d9d6a4a",
   "metadata": {},
   "outputs": [
    {
     "name": "stdout",
     "output_type": "stream",
     "text": [
      "enter gmailr@yahoo.com\n",
      "discount\n"
     ]
    }
   ],
   "source": [
    "a=input('enter gmail')\n",
    "if re.fullmatch('[a-z0-9]*@(gmail|yahoo).com',a)!=None:\n",
    "    print('discount')"
   ]
  },
  {
   "cell_type": "code",
   "execution_count": 86,
   "id": "ee4a878f",
   "metadata": {},
   "outputs": [],
   "source": [
    "import numpy as np"
   ]
  },
  {
   "cell_type": "code",
   "execution_count": 87,
   "id": "729c9200",
   "metadata": {},
   "outputs": [
    {
     "data": {
      "text/plain": [
       "'1.21.5'"
      ]
     },
     "execution_count": 87,
     "metadata": {},
     "output_type": "execute_result"
    }
   ],
   "source": [
    "np.__version__"
   ]
  },
  {
   "cell_type": "code",
   "execution_count": 88,
   "id": "b1332da9",
   "metadata": {},
   "outputs": [
    {
     "name": "stdout",
     "output_type": "stream",
     "text": [
      "0.07962150934687284\n",
      "0.09599655617735686\n",
      "0.10345932094811018\n",
      "0.16517857142857142\n"
     ]
    }
   ],
   "source": [
    "profit = [345,223,323,222]\n",
    "sales = [4333,2323,3122,1344]\n",
    "for i in range(0,len(sales)):\n",
    "    print(profit[i]/sales[i])"
   ]
  },
  {
   "cell_type": "code",
   "execution_count": 90,
   "id": "718bd28a",
   "metadata": {},
   "outputs": [],
   "source": [
    "profit_array = np.array(profit)"
   ]
  },
  {
   "cell_type": "code",
   "execution_count": 92,
   "id": "6e07ce44",
   "metadata": {},
   "outputs": [],
   "source": [
    "sales_array =np.array(sales)"
   ]
  },
  {
   "cell_type": "code",
   "execution_count": 95,
   "id": "6936ade0",
   "metadata": {},
   "outputs": [
    {
     "data": {
      "text/plain": [
       "numpy.ndarray"
      ]
     },
     "execution_count": 95,
     "metadata": {},
     "output_type": "execute_result"
    }
   ],
   "source": [
    "type(profit_array)"
   ]
  },
  {
   "cell_type": "code",
   "execution_count": 94,
   "id": "7e2d5c14",
   "metadata": {},
   "outputs": [
    {
     "data": {
      "text/plain": [
       "array([4333, 2323, 3122, 1344])"
      ]
     },
     "execution_count": 94,
     "metadata": {},
     "output_type": "execute_result"
    }
   ],
   "source": [
    "sales_array"
   ]
  },
  {
   "cell_type": "code",
   "execution_count": 96,
   "id": "f300348d",
   "metadata": {},
   "outputs": [
    {
     "data": {
      "text/plain": [
       "array([0.07962151, 0.09599656, 0.10345932, 0.16517857])"
      ]
     },
     "execution_count": 96,
     "metadata": {},
     "output_type": "execute_result"
    }
   ],
   "source": [
    "profit_array/sales_array"
   ]
  },
  {
   "cell_type": "code",
   "execution_count": 99,
   "id": "a217643b",
   "metadata": {},
   "outputs": [
    {
     "data": {
      "text/plain": [
       "array([12999,  6969,  9366,  4032])"
      ]
     },
     "execution_count": 99,
     "metadata": {},
     "output_type": "execute_result"
    }
   ],
   "source": [
    "sales_array*3"
   ]
  },
  {
   "cell_type": "code",
   "execution_count": 100,
   "id": "0dcad920",
   "metadata": {},
   "outputs": [
    {
     "data": {
      "text/plain": [
       "[4333, 2323, 3122, 1344, 4333, 2323, 3122, 1344, 4333, 2323, 3122, 1344]"
      ]
     },
     "execution_count": 100,
     "metadata": {},
     "output_type": "execute_result"
    }
   ],
   "source": [
    "sales*3"
   ]
  },
  {
   "cell_type": "code",
   "execution_count": 106,
   "id": "d04c1226",
   "metadata": {},
   "outputs": [
    {
     "data": {
      "text/plain": [
       "int"
      ]
     },
     "execution_count": 106,
     "metadata": {},
     "output_type": "execute_result"
    }
   ],
   "source": [
    "list1 = [10,10.5,True,'A']\n",
    "type(list1[0])"
   ]
  },
  {
   "cell_type": "code",
   "execution_count": 107,
   "id": "8cc881c7",
   "metadata": {},
   "outputs": [
    {
     "data": {
      "text/plain": [
       "array(['10', '10.5', 'True', 'A'], dtype='<U32')"
      ]
     },
     "execution_count": 107,
     "metadata": {},
     "output_type": "execute_result"
    }
   ],
   "source": [
    "np.array(list1)"
   ]
  },
  {
   "cell_type": "code",
   "execution_count": 109,
   "id": "04ba5252",
   "metadata": {},
   "outputs": [],
   "source": [
    "sales_us = [4343,2323,2344,1221]\n",
    "sales_eu = [5553,3423,1233,2323]\n",
    "sales_jp = [2323,2445,2333,1212]\n",
    "sales_matrix= np.array([sales_us,sales_eu,sales_jp])"
   ]
  },
  {
   "cell_type": "code",
   "execution_count": 111,
   "id": "fe940bbc",
   "metadata": {},
   "outputs": [
    {
     "data": {
      "text/plain": [
       "2333"
      ]
     },
     "execution_count": 111,
     "metadata": {},
     "output_type": "execute_result"
    }
   ],
   "source": [
    "sales_matrix[2][2]"
   ]
  },
  {
   "cell_type": "code",
   "execution_count": 112,
   "id": "d7575c32",
   "metadata": {},
   "outputs": [
    {
     "data": {
      "text/plain": [
       "2333"
      ]
     },
     "execution_count": 112,
     "metadata": {},
     "output_type": "execute_result"
    }
   ],
   "source": [
    "sales_matrix[2,2]"
   ]
  },
  {
   "cell_type": "code",
   "execution_count": 113,
   "id": "ea90f234",
   "metadata": {},
   "outputs": [
    {
     "data": {
      "text/plain": [
       "array([[4343, 2323, 2344, 1221],\n",
       "       [5553, 3423, 1233, 2323],\n",
       "       [2323, 2445, 2333, 1212]])"
      ]
     },
     "execution_count": 113,
     "metadata": {},
     "output_type": "execute_result"
    }
   ],
   "source": [
    "sales_matrix"
   ]
  },
  {
   "cell_type": "code",
   "execution_count": 114,
   "id": "cae428e8",
   "metadata": {},
   "outputs": [
    {
     "data": {
      "text/plain": [
       "array([[3423, 1233],\n",
       "       [2445, 2333]])"
      ]
     },
     "execution_count": 114,
     "metadata": {},
     "output_type": "execute_result"
    }
   ],
   "source": [
    "sales_matrix[1:3,1:3]"
   ]
  },
  {
   "cell_type": "code",
   "execution_count": 115,
   "id": "6b0905d1",
   "metadata": {},
   "outputs": [],
   "source": [
    "profit_us = [323,122,131,121]\n",
    "profit_eu = [444,232,121,311]\n",
    "profit_jp = [443,232,122,131]\n",
    "profit_matrix = np.array([profit_us,profit_eu,profit_jp])"
   ]
  },
  {
   "cell_type": "code",
   "execution_count": 117,
   "id": "80fa46aa",
   "metadata": {},
   "outputs": [
    {
     "data": {
      "text/plain": [
       "array([[0.07437255, 0.0525183 , 0.05588737, 0.0990991 ],\n",
       "       [0.07995678, 0.0677768 , 0.09813463, 0.13387861],\n",
       "       [0.19070168, 0.09488753, 0.05229318, 0.10808581]])"
      ]
     },
     "execution_count": 117,
     "metadata": {},
     "output_type": "execute_result"
    }
   ],
   "source": [
    "profit_matrix/sales_matrix"
   ]
  },
  {
   "cell_type": "code",
   "execution_count": 121,
   "id": "9442156e",
   "metadata": {},
   "outputs": [
    {
     "data": {
      "text/plain": [
       "(3, 4)"
      ]
     },
     "execution_count": 121,
     "metadata": {},
     "output_type": "execute_result"
    }
   ],
   "source": [
    "profit_matrix.shape"
   ]
  },
  {
   "cell_type": "code",
   "execution_count": 122,
   "id": "85647198",
   "metadata": {},
   "outputs": [
    {
     "data": {
      "text/plain": [
       "(3, 4)"
      ]
     },
     "execution_count": 122,
     "metadata": {},
     "output_type": "execute_result"
    }
   ],
   "source": [
    "sales_matrix.shape"
   ]
  },
  {
   "cell_type": "code",
   "execution_count": 127,
   "id": "34d68a9c",
   "metadata": {},
   "outputs": [
    {
     "data": {
      "text/plain": [
       "array([2557.75, 3133.  , 2078.25])"
      ]
     },
     "execution_count": 127,
     "metadata": {},
     "output_type": "execute_result"
    }
   ],
   "source": [
    "np.mean(sales_matrix,axis=1)"
   ]
  },
  {
   "cell_type": "code",
   "execution_count": 128,
   "id": "9a5a55f8",
   "metadata": {},
   "outputs": [
    {
     "data": {
      "text/plain": [
       "2328.0"
      ]
     },
     "execution_count": 128,
     "metadata": {},
     "output_type": "execute_result"
    }
   ],
   "source": [
    "np.median(sales_matrix)"
   ]
  },
  {
   "cell_type": "code",
   "execution_count": 136,
   "id": "2e3c97ff",
   "metadata": {},
   "outputs": [
    {
     "data": {
      "text/plain": [
       "25.666666666666668"
      ]
     },
     "execution_count": 136,
     "metadata": {},
     "output_type": "execute_result"
    }
   ],
   "source": [
    "np.mean(np.array([23, 30, 21, 32, 24, 22, 33, 21, 25]))\n"
   ]
  },
  {
   "cell_type": "code",
   "execution_count": 137,
   "id": "e8a91c7a",
   "metadata": {},
   "outputs": [
    {
     "data": {
      "text/plain": [
       "26.3"
      ]
     },
     "execution_count": 137,
     "metadata": {},
     "output_type": "execute_result"
    }
   ],
   "source": [
    "np.mean(np.array([23, 30, 21, 32, 24, 22, 33, 21, 25, 32]))\n"
   ]
  },
  {
   "cell_type": "code",
   "execution_count": 134,
   "id": "c7b012a5",
   "metadata": {},
   "outputs": [
    {
     "data": {
      "text/plain": [
       "24.0"
      ]
     },
     "execution_count": 134,
     "metadata": {},
     "output_type": "execute_result"
    }
   ],
   "source": [
    "np.median(np.array([23, 30, 21, 32, 24, 22, 33, 21, 25]))\n"
   ]
  },
  {
   "cell_type": "code",
   "execution_count": 135,
   "id": "562aef0e",
   "metadata": {},
   "outputs": [
    {
     "data": {
      "text/plain": [
       "24.5"
      ]
     },
     "execution_count": 135,
     "metadata": {},
     "output_type": "execute_result"
    }
   ],
   "source": [
    "np.median(np.array([23, 30, 21, 32, 24, 22, 33, 21, 25, 32]))\n"
   ]
  },
  {
   "cell_type": "code",
   "execution_count": 138,
   "id": "98042861",
   "metadata": {},
   "outputs": [
    {
     "data": {
      "text/plain": [
       "1242.3840209675732"
      ]
     },
     "execution_count": 138,
     "metadata": {},
     "output_type": "execute_result"
    }
   ],
   "source": [
    "np.std(sales_matrix)"
   ]
  },
  {
   "cell_type": "code",
   "execution_count": 140,
   "id": "fd8b699c",
   "metadata": {},
   "outputs": [
    {
     "data": {
      "text/plain": [
       "1242.3840209675732"
      ]
     },
     "execution_count": 140,
     "metadata": {},
     "output_type": "execute_result"
    }
   ],
   "source": [
    "np.sqrt(np.var(sales_matrix))"
   ]
  },
  {
   "cell_type": "code",
   "execution_count": null,
   "id": "2ce1e272",
   "metadata": {},
   "outputs": [],
   "source": []
  }
 ],
 "metadata": {
  "kernelspec": {
   "display_name": "Python 3 (ipykernel)",
   "language": "python",
   "name": "python3"
  },
  "language_info": {
   "codemirror_mode": {
    "name": "ipython",
    "version": 3
   },
   "file_extension": ".py",
   "mimetype": "text/x-python",
   "name": "python",
   "nbconvert_exporter": "python",
   "pygments_lexer": "ipython3",
   "version": "3.9.13"
  }
 },
 "nbformat": 4,
 "nbformat_minor": 5
}
