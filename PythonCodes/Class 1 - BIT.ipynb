{
 "cells": [
  {
   "cell_type": "markdown",
   "id": "485c0e00",
   "metadata": {},
   "source": [
    "# This is basic datatypes discussion"
   ]
  },
  {
   "cell_type": "markdown",
   "id": "3483b3b5",
   "metadata": {},
   "source": [
    "Here we will discuss datatypes"
   ]
  },
  {
   "cell_type": "code",
   "execution_count": 2,
   "id": "e15fae35",
   "metadata": {},
   "outputs": [],
   "source": [
    "ins_name = 'Rahul'"
   ]
  },
  {
   "cell_type": "code",
   "execution_count": 3,
   "id": "10d6c007",
   "metadata": {},
   "outputs": [
    {
     "data": {
      "text/plain": [
       "str"
      ]
     },
     "execution_count": 3,
     "metadata": {},
     "output_type": "execute_result"
    }
   ],
   "source": [
    "type(ins_name)"
   ]
  },
  {
   "cell_type": "code",
   "execution_count": 10,
   "id": "4bc79233",
   "metadata": {},
   "outputs": [],
   "source": [
    "a = 123.5"
   ]
  },
  {
   "cell_type": "code",
   "execution_count": 11,
   "id": "3a482e2a",
   "metadata": {},
   "outputs": [
    {
     "data": {
      "text/plain": [
       "float"
      ]
     },
     "execution_count": 11,
     "metadata": {},
     "output_type": "execute_result"
    }
   ],
   "source": [
    "type(a)"
   ]
  },
  {
   "cell_type": "code",
   "execution_count": 15,
   "id": "0ff3d92e",
   "metadata": {},
   "outputs": [],
   "source": [
    "b=a>100"
   ]
  },
  {
   "cell_type": "code",
   "execution_count": 17,
   "id": "2613c236",
   "metadata": {},
   "outputs": [
    {
     "data": {
      "text/plain": [
       "bool"
      ]
     },
     "execution_count": 17,
     "metadata": {},
     "output_type": "execute_result"
    }
   ],
   "source": [
    "type(b)"
   ]
  },
  {
   "cell_type": "code",
   "execution_count": 38,
   "id": "01ce16d3",
   "metadata": {},
   "outputs": [
    {
     "ename": "SyntaxError",
     "evalue": "invalid syntax (2852277978.py, line 1)",
     "output_type": "error",
     "traceback": [
      "\u001b[1;36m  File \u001b[1;32m\"C:\\Users\\rahul\\AppData\\Local\\Temp\\ipykernel_21564\\2852277978.py\"\u001b[1;36m, line \u001b[1;32m1\u001b[0m\n\u001b[1;33m    123ins_123name123='P'\u001b[0m\n\u001b[1;37m       ^\u001b[0m\n\u001b[1;31mSyntaxError\u001b[0m\u001b[1;31m:\u001b[0m invalid syntax\n"
     ]
    }
   ],
   "source": [
    "123ins_123name123='P'"
   ]
  },
  {
   "cell_type": "code",
   "execution_count": 37,
   "id": "788b8c08",
   "metadata": {},
   "outputs": [
    {
     "data": {
      "text/plain": [
       "'P'"
      ]
     },
     "execution_count": 37,
     "metadata": {},
     "output_type": "execute_result"
    }
   ],
   "source": [
    "ins_123name123"
   ]
  },
  {
   "cell_type": "code",
   "execution_count": 39,
   "id": "a2c08b71",
   "metadata": {},
   "outputs": [],
   "source": [
    "name ='A'\n",
    "NAME = 'T'"
   ]
  },
  {
   "cell_type": "code",
   "execution_count": 40,
   "id": "6ff1e735",
   "metadata": {},
   "outputs": [
    {
     "data": {
      "text/plain": [
       "'A'"
      ]
     },
     "execution_count": 40,
     "metadata": {},
     "output_type": "execute_result"
    }
   ],
   "source": [
    "name"
   ]
  },
  {
   "cell_type": "code",
   "execution_count": 41,
   "id": "92acb4ee",
   "metadata": {},
   "outputs": [
    {
     "data": {
      "text/plain": [
       "'T'"
      ]
     },
     "execution_count": 41,
     "metadata": {},
     "output_type": "execute_result"
    }
   ],
   "source": [
    "NAME"
   ]
  },
  {
   "cell_type": "code",
   "execution_count": 43,
   "id": "58cd05b6",
   "metadata": {},
   "outputs": [],
   "source": [
    "import keyword"
   ]
  },
  {
   "cell_type": "code",
   "execution_count": 44,
   "id": "5e97e00e",
   "metadata": {},
   "outputs": [
    {
     "data": {
      "text/plain": [
       "['False',\n",
       " 'None',\n",
       " 'True',\n",
       " '__peg_parser__',\n",
       " 'and',\n",
       " 'as',\n",
       " 'assert',\n",
       " 'async',\n",
       " 'await',\n",
       " 'break',\n",
       " 'class',\n",
       " 'continue',\n",
       " 'def',\n",
       " 'del',\n",
       " 'elif',\n",
       " 'else',\n",
       " 'except',\n",
       " 'finally',\n",
       " 'for',\n",
       " 'from',\n",
       " 'global',\n",
       " 'if',\n",
       " 'import',\n",
       " 'in',\n",
       " 'is',\n",
       " 'lambda',\n",
       " 'nonlocal',\n",
       " 'not',\n",
       " 'or',\n",
       " 'pass',\n",
       " 'raise',\n",
       " 'return',\n",
       " 'try',\n",
       " 'while',\n",
       " 'with',\n",
       " 'yield']"
      ]
     },
     "execution_count": 44,
     "metadata": {},
     "output_type": "execute_result"
    }
   ],
   "source": [
    "keyword.kwlist"
   ]
  },
  {
   "cell_type": "code",
   "execution_count": 46,
   "id": "0ce601d4",
   "metadata": {},
   "outputs": [],
   "source": [
    "false = 'Rahul'"
   ]
  },
  {
   "cell_type": "code",
   "execution_count": 47,
   "id": "e49c5d22",
   "metadata": {},
   "outputs": [
    {
     "data": {
      "text/plain": [
       "'Rahul'"
      ]
     },
     "execution_count": 47,
     "metadata": {},
     "output_type": "execute_result"
    }
   ],
   "source": [
    "false"
   ]
  },
  {
   "cell_type": "code",
   "execution_count": 48,
   "id": "5037baa6",
   "metadata": {},
   "outputs": [],
   "source": [
    "college = 'Ballarpur Tech'"
   ]
  },
  {
   "cell_type": "code",
   "execution_count": 56,
   "id": "bcc8e0e7",
   "metadata": {},
   "outputs": [
    {
     "data": {
      "text/plain": [
       "'arpur'"
      ]
     },
     "execution_count": 56,
     "metadata": {},
     "output_type": "execute_result"
    }
   ],
   "source": [
    "college[4:9]"
   ]
  },
  {
   "cell_type": "code",
   "execution_count": 57,
   "id": "b5676e49",
   "metadata": {},
   "outputs": [
    {
     "data": {
      "text/plain": [
       "'ech'"
      ]
     },
     "execution_count": 57,
     "metadata": {},
     "output_type": "execute_result"
    }
   ],
   "source": [
    "college[11:14]"
   ]
  },
  {
   "cell_type": "code",
   "execution_count": 58,
   "id": "5c1e6d96",
   "metadata": {},
   "outputs": [
    {
     "data": {
      "text/plain": [
       "'ech'"
      ]
     },
     "execution_count": 58,
     "metadata": {},
     "output_type": "execute_result"
    }
   ],
   "source": [
    "college[11:]"
   ]
  },
  {
   "cell_type": "code",
   "execution_count": 59,
   "id": "6fab2d21",
   "metadata": {},
   "outputs": [
    {
     "data": {
      "text/plain": [
       "'Ballarpur Tech'"
      ]
     },
     "execution_count": 59,
     "metadata": {},
     "output_type": "execute_result"
    }
   ],
   "source": [
    "college"
   ]
  },
  {
   "cell_type": "code",
   "execution_count": 64,
   "id": "bbd24587",
   "metadata": {},
   "outputs": [
    {
     "data": {
      "text/plain": [
       "'rupra'"
      ]
     },
     "execution_count": 64,
     "metadata": {},
     "output_type": "execute_result"
    }
   ],
   "source": [
    "college[8:3:-1]"
   ]
  },
  {
   "cell_type": "code",
   "execution_count": 65,
   "id": "4d98b60a",
   "metadata": {},
   "outputs": [
    {
     "data": {
      "text/plain": [
       "'a'"
      ]
     },
     "execution_count": 65,
     "metadata": {},
     "output_type": "execute_result"
    }
   ],
   "source": [
    "college[4]"
   ]
  },
  {
   "cell_type": "code",
   "execution_count": 66,
   "id": "11946353",
   "metadata": {},
   "outputs": [
    {
     "data": {
      "text/plain": [
       "'a'"
      ]
     },
     "execution_count": 66,
     "metadata": {},
     "output_type": "execute_result"
    }
   ],
   "source": [
    "college[-10]"
   ]
  },
  {
   "cell_type": "code",
   "execution_count": 69,
   "id": "c71ce9c3",
   "metadata": {},
   "outputs": [
    {
     "data": {
      "text/plain": [
       "'Ballarpur Tech'"
      ]
     },
     "execution_count": 69,
     "metadata": {},
     "output_type": "execute_result"
    }
   ],
   "source": [
    "college"
   ]
  },
  {
   "cell_type": "code",
   "execution_count": 68,
   "id": "159f5c8a",
   "metadata": {},
   "outputs": [
    {
     "data": {
      "text/plain": [
       "'llar'"
      ]
     },
     "execution_count": 68,
     "metadata": {},
     "output_type": "execute_result"
    }
   ],
   "source": [
    "college[-12:6]"
   ]
  },
  {
   "cell_type": "code",
   "execution_count": 72,
   "id": "33bbe4b7",
   "metadata": {},
   "outputs": [
    {
     "data": {
      "text/plain": [
       "' ur'"
      ]
     },
     "execution_count": 72,
     "metadata": {},
     "output_type": "execute_result"
    }
   ],
   "source": [
    "college[-5:3:-2]"
   ]
  },
  {
   "cell_type": "code",
   "execution_count": 79,
   "id": "1e4a838c",
   "metadata": {},
   "outputs": [
    {
     "data": {
      "text/plain": [
       "'rla'"
      ]
     },
     "execution_count": 79,
     "metadata": {},
     "output_type": "execute_result"
    }
   ],
   "source": [
    "college[5:0:-2]"
   ]
  },
  {
   "cell_type": "code",
   "execution_count": 80,
   "id": "1ae47477",
   "metadata": {},
   "outputs": [],
   "source": [
    "#Python collection datatypes"
   ]
  },
  {
   "cell_type": "code",
   "execution_count": 122,
   "id": "69941f0d",
   "metadata": {},
   "outputs": [],
   "source": [
    "college_stu = [21,22,23,22,12,22,31,21]"
   ]
  },
  {
   "cell_type": "code",
   "execution_count": 83,
   "id": "c21fa6cb",
   "metadata": {},
   "outputs": [
    {
     "data": {
      "text/plain": [
       "list"
      ]
     },
     "execution_count": 83,
     "metadata": {},
     "output_type": "execute_result"
    }
   ],
   "source": [
    "type(college_stu)"
   ]
  },
  {
   "cell_type": "code",
   "execution_count": 85,
   "id": "aeb5d6ce",
   "metadata": {},
   "outputs": [
    {
     "data": {
      "text/plain": [
       "12"
      ]
     },
     "execution_count": 85,
     "metadata": {},
     "output_type": "execute_result"
    }
   ],
   "source": [
    "college_stu[4]"
   ]
  },
  {
   "cell_type": "code",
   "execution_count": 86,
   "id": "9412ffdb",
   "metadata": {},
   "outputs": [
    {
     "data": {
      "text/plain": [
       "[21, 22, 23, 22, 12, 22, 31, 21]"
      ]
     },
     "execution_count": 86,
     "metadata": {},
     "output_type": "execute_result"
    }
   ],
   "source": [
    "college_stu"
   ]
  },
  {
   "cell_type": "code",
   "execution_count": 87,
   "id": "9e76c6ae",
   "metadata": {},
   "outputs": [
    {
     "data": {
      "text/plain": [
       "[22, 12, 22, 23, 22]"
      ]
     },
     "execution_count": 87,
     "metadata": {},
     "output_type": "execute_result"
    }
   ],
   "source": [
    "college_stu[5:0:-1]"
   ]
  },
  {
   "cell_type": "code",
   "execution_count": 88,
   "id": "58da7bcc",
   "metadata": {},
   "outputs": [
    {
     "data": {
      "text/plain": [
       "[22, 12, 22, 23, 22]"
      ]
     },
     "execution_count": 88,
     "metadata": {},
     "output_type": "execute_result"
    }
   ],
   "source": [
    "college_stu[-3:-8:-1]"
   ]
  },
  {
   "cell_type": "code",
   "execution_count": 89,
   "id": "ab6d613c",
   "metadata": {},
   "outputs": [
    {
     "data": {
      "text/plain": [
       "[21, 22, 23, 22, 12, 22, 31, 21]"
      ]
     },
     "execution_count": 89,
     "metadata": {},
     "output_type": "execute_result"
    }
   ],
   "source": [
    "college_stu"
   ]
  },
  {
   "cell_type": "code",
   "execution_count": 90,
   "id": "1ddee821",
   "metadata": {},
   "outputs": [],
   "source": [
    "list1 = ['A',10,20.5,True]"
   ]
  },
  {
   "cell_type": "code",
   "execution_count": 92,
   "id": "c803484b",
   "metadata": {},
   "outputs": [
    {
     "data": {
      "text/plain": [
       "list"
      ]
     },
     "execution_count": 92,
     "metadata": {},
     "output_type": "execute_result"
    }
   ],
   "source": [
    "type(list1)"
   ]
  },
  {
   "cell_type": "code",
   "execution_count": 96,
   "id": "37dbba70",
   "metadata": {},
   "outputs": [
    {
     "data": {
      "text/plain": [
       "bool"
      ]
     },
     "execution_count": 96,
     "metadata": {},
     "output_type": "execute_result"
    }
   ],
   "source": [
    "type(list1[3])"
   ]
  },
  {
   "cell_type": "code",
   "execution_count": 97,
   "id": "15330136",
   "metadata": {},
   "outputs": [
    {
     "data": {
      "text/plain": [
       "4"
      ]
     },
     "execution_count": 97,
     "metadata": {},
     "output_type": "execute_result"
    }
   ],
   "source": [
    "len(list1)"
   ]
  },
  {
   "cell_type": "code",
   "execution_count": 99,
   "id": "4a4da62b",
   "metadata": {},
   "outputs": [
    {
     "data": {
      "text/plain": [
       "174"
      ]
     },
     "execution_count": 99,
     "metadata": {},
     "output_type": "execute_result"
    }
   ],
   "source": [
    "sum(college_stu)"
   ]
  },
  {
   "cell_type": "code",
   "execution_count": 100,
   "id": "57c4757e",
   "metadata": {},
   "outputs": [
    {
     "ename": "TypeError",
     "evalue": "unsupported operand type(s) for +: 'int' and 'str'",
     "output_type": "error",
     "traceback": [
      "\u001b[1;31m---------------------------------------------------------------------------\u001b[0m",
      "\u001b[1;31mTypeError\u001b[0m                                 Traceback (most recent call last)",
      "\u001b[1;32m~\\AppData\\Local\\Temp\\ipykernel_21564\\202590907.py\u001b[0m in \u001b[0;36m<module>\u001b[1;34m\u001b[0m\n\u001b[1;32m----> 1\u001b[1;33m \u001b[0msum\u001b[0m\u001b[1;33m(\u001b[0m\u001b[0mlist1\u001b[0m\u001b[1;33m)\u001b[0m\u001b[1;33m\u001b[0m\u001b[1;33m\u001b[0m\u001b[0m\n\u001b[0m",
      "\u001b[1;31mTypeError\u001b[0m: unsupported operand type(s) for +: 'int' and 'str'"
     ]
    }
   ],
   "source": [
    "sum(list1)"
   ]
  },
  {
   "cell_type": "code",
   "execution_count": 105,
   "id": "6df0bb72",
   "metadata": {},
   "outputs": [],
   "source": [
    "college_stu.append([100,101,102])"
   ]
  },
  {
   "cell_type": "code",
   "execution_count": 109,
   "id": "0a503f01",
   "metadata": {},
   "outputs": [
    {
     "data": {
      "text/plain": [
       "101"
      ]
     },
     "execution_count": 109,
     "metadata": {},
     "output_type": "execute_result"
    }
   ],
   "source": [
    "college_stu[-1][-2]"
   ]
  },
  {
   "cell_type": "code",
   "execution_count": 111,
   "id": "8ffb357a",
   "metadata": {},
   "outputs": [],
   "source": [
    "del college_stu[9]"
   ]
  },
  {
   "cell_type": "code",
   "execution_count": 114,
   "id": "af31e5c5",
   "metadata": {},
   "outputs": [],
   "source": [
    "college_stu.extend([101,102,103])"
   ]
  },
  {
   "cell_type": "code",
   "execution_count": 116,
   "id": "b5f00337",
   "metadata": {},
   "outputs": [],
   "source": [
    "del college_stu"
   ]
  },
  {
   "cell_type": "code",
   "execution_count": 120,
   "id": "027985ca",
   "metadata": {},
   "outputs": [],
   "source": [
    "college_stu.clear()"
   ]
  },
  {
   "cell_type": "code",
   "execution_count": 123,
   "id": "a29d363e",
   "metadata": {},
   "outputs": [
    {
     "data": {
      "text/plain": [
       "[21, 22, 23, 22, 12, 22, 31, 21]"
      ]
     },
     "execution_count": 123,
     "metadata": {},
     "output_type": "execute_result"
    }
   ],
   "source": [
    "college_stu"
   ]
  },
  {
   "cell_type": "code",
   "execution_count": 125,
   "id": "92e958ad",
   "metadata": {},
   "outputs": [],
   "source": [
    "a = college_stu.copy()"
   ]
  },
  {
   "cell_type": "code",
   "execution_count": 126,
   "id": "51a977db",
   "metadata": {},
   "outputs": [
    {
     "data": {
      "text/plain": [
       "[21, 22, 23, 22, 12, 22, 31, 21]"
      ]
     },
     "execution_count": 126,
     "metadata": {},
     "output_type": "execute_result"
    }
   ],
   "source": [
    "a"
   ]
  },
  {
   "cell_type": "code",
   "execution_count": 127,
   "id": "18df698c",
   "metadata": {},
   "outputs": [
    {
     "data": {
      "text/plain": [
       "[21, 22, 23, 22, 12, 22, 31, 21]"
      ]
     },
     "execution_count": 127,
     "metadata": {},
     "output_type": "execute_result"
    }
   ],
   "source": [
    "college_stu"
   ]
  },
  {
   "cell_type": "code",
   "execution_count": 128,
   "id": "f396e974",
   "metadata": {},
   "outputs": [],
   "source": [
    "b = college_stu"
   ]
  },
  {
   "cell_type": "code",
   "execution_count": 129,
   "id": "4193c5b7",
   "metadata": {},
   "outputs": [
    {
     "data": {
      "text/plain": [
       "[21, 22, 23, 22, 12, 22, 31, 21]"
      ]
     },
     "execution_count": 129,
     "metadata": {},
     "output_type": "execute_result"
    }
   ],
   "source": [
    "b"
   ]
  },
  {
   "cell_type": "code",
   "execution_count": 132,
   "id": "8717f8f3",
   "metadata": {},
   "outputs": [
    {
     "data": {
      "text/plain": [
       "2541311795776"
      ]
     },
     "execution_count": 132,
     "metadata": {},
     "output_type": "execute_result"
    }
   ],
   "source": [
    "id(a)"
   ]
  },
  {
   "cell_type": "code",
   "execution_count": 133,
   "id": "73167c4f",
   "metadata": {},
   "outputs": [
    {
     "data": {
      "text/plain": [
       "2541316842944"
      ]
     },
     "execution_count": 133,
     "metadata": {},
     "output_type": "execute_result"
    }
   ],
   "source": [
    "id(college_stu)"
   ]
  },
  {
   "cell_type": "code",
   "execution_count": 134,
   "id": "bf322ec0",
   "metadata": {},
   "outputs": [
    {
     "data": {
      "text/plain": [
       "2541316842944"
      ]
     },
     "execution_count": 134,
     "metadata": {},
     "output_type": "execute_result"
    }
   ],
   "source": [
    "id(b)"
   ]
  },
  {
   "cell_type": "code",
   "execution_count": 136,
   "id": "21946f8e",
   "metadata": {},
   "outputs": [],
   "source": [
    "college_stu[0]=0"
   ]
  },
  {
   "cell_type": "code",
   "execution_count": 137,
   "id": "c91c1544",
   "metadata": {},
   "outputs": [
    {
     "data": {
      "text/plain": [
       "[0, 22, 23, 22, 12, 22, 31, 21]"
      ]
     },
     "execution_count": 137,
     "metadata": {},
     "output_type": "execute_result"
    }
   ],
   "source": [
    "college_stu"
   ]
  },
  {
   "cell_type": "code",
   "execution_count": 138,
   "id": "d7aaa7d7",
   "metadata": {},
   "outputs": [
    {
     "data": {
      "text/plain": [
       "[0, 22, 23, 22, 12, 22, 31, 21]"
      ]
     },
     "execution_count": 138,
     "metadata": {},
     "output_type": "execute_result"
    }
   ],
   "source": [
    "b"
   ]
  },
  {
   "cell_type": "code",
   "execution_count": 139,
   "id": "dc467ee4",
   "metadata": {},
   "outputs": [
    {
     "data": {
      "text/plain": [
       "[21, 22, 23, 22, 12, 22, 31, 21]"
      ]
     },
     "execution_count": 139,
     "metadata": {},
     "output_type": "execute_result"
    }
   ],
   "source": [
    "a"
   ]
  },
  {
   "cell_type": "code",
   "execution_count": 140,
   "id": "ef080b00",
   "metadata": {},
   "outputs": [
    {
     "data": {
      "text/plain": [
       "3"
      ]
     },
     "execution_count": 140,
     "metadata": {},
     "output_type": "execute_result"
    }
   ],
   "source": [
    "college_stu.count(22)"
   ]
  },
  {
   "cell_type": "code",
   "execution_count": 141,
   "id": "bb225196",
   "metadata": {},
   "outputs": [
    {
     "data": {
      "text/plain": [
       "4"
      ]
     },
     "execution_count": 141,
     "metadata": {},
     "output_type": "execute_result"
    }
   ],
   "source": [
    "college_stu.index(12)"
   ]
  },
  {
   "cell_type": "code",
   "execution_count": 142,
   "id": "58dc540d",
   "metadata": {},
   "outputs": [
    {
     "data": {
      "text/plain": [
       "[0, 22, 23, 22, 12, 22, 31, 21]"
      ]
     },
     "execution_count": 142,
     "metadata": {},
     "output_type": "execute_result"
    }
   ],
   "source": [
    "college_stu"
   ]
  },
  {
   "cell_type": "code",
   "execution_count": 143,
   "id": "25695b92",
   "metadata": {},
   "outputs": [],
   "source": [
    "college_stu.insert(4,100)"
   ]
  },
  {
   "cell_type": "code",
   "execution_count": 144,
   "id": "3f58abc1",
   "metadata": {},
   "outputs": [
    {
     "data": {
      "text/plain": [
       "[0, 22, 23, 22, 100, 12, 22, 31, 21]"
      ]
     },
     "execution_count": 144,
     "metadata": {},
     "output_type": "execute_result"
    }
   ],
   "source": [
    "college_stu"
   ]
  },
  {
   "cell_type": "code",
   "execution_count": 146,
   "id": "332a0c6c",
   "metadata": {},
   "outputs": [
    {
     "data": {
      "text/plain": [
       "21"
      ]
     },
     "execution_count": 146,
     "metadata": {},
     "output_type": "execute_result"
    }
   ],
   "source": [
    "college_stu.pop()"
   ]
  },
  {
   "cell_type": "code",
   "execution_count": 148,
   "id": "61370ddf",
   "metadata": {},
   "outputs": [
    {
     "data": {
      "text/plain": [
       "100"
      ]
     },
     "execution_count": 148,
     "metadata": {},
     "output_type": "execute_result"
    }
   ],
   "source": [
    "college_stu.pop(4)"
   ]
  },
  {
   "cell_type": "code",
   "execution_count": 149,
   "id": "6bbe86c3",
   "metadata": {},
   "outputs": [
    {
     "data": {
      "text/plain": [
       "[0, 22, 23, 22, 12, 22, 31]"
      ]
     },
     "execution_count": 149,
     "metadata": {},
     "output_type": "execute_result"
    }
   ],
   "source": [
    "college_stu"
   ]
  },
  {
   "cell_type": "code",
   "execution_count": 150,
   "id": "c62e8591",
   "metadata": {},
   "outputs": [],
   "source": [
    "college_stu.remove(22)"
   ]
  },
  {
   "cell_type": "code",
   "execution_count": 151,
   "id": "c1aaf8ca",
   "metadata": {},
   "outputs": [
    {
     "data": {
      "text/plain": [
       "[0, 23, 22, 12, 22, 31]"
      ]
     },
     "execution_count": 151,
     "metadata": {},
     "output_type": "execute_result"
    }
   ],
   "source": [
    "college_stu"
   ]
  },
  {
   "cell_type": "code",
   "execution_count": 153,
   "id": "76381e0b",
   "metadata": {},
   "outputs": [],
   "source": [
    "college_stu.reverse()"
   ]
  },
  {
   "cell_type": "code",
   "execution_count": 157,
   "id": "8c57bc49",
   "metadata": {},
   "outputs": [],
   "source": [
    "college_stu.sort(reverse=True)"
   ]
  },
  {
   "cell_type": "code",
   "execution_count": 159,
   "id": "2143f7b0",
   "metadata": {},
   "outputs": [],
   "source": [
    "college_stu[5]=100"
   ]
  },
  {
   "cell_type": "code",
   "execution_count": 161,
   "id": "9473bc94",
   "metadata": {},
   "outputs": [
    {
     "data": {
      "text/plain": [
       "2541316842944"
      ]
     },
     "execution_count": 161,
     "metadata": {},
     "output_type": "execute_result"
    }
   ],
   "source": [
    "id(college_stu)"
   ]
  },
  {
   "cell_type": "code",
   "execution_count": 162,
   "id": "cb1405bd",
   "metadata": {},
   "outputs": [],
   "source": [
    "college_stu[0]=1000"
   ]
  },
  {
   "cell_type": "code",
   "execution_count": 164,
   "id": "00c9b85c",
   "metadata": {},
   "outputs": [
    {
     "data": {
      "text/plain": [
       "2541316842944"
      ]
     },
     "execution_count": 164,
     "metadata": {},
     "output_type": "execute_result"
    }
   ],
   "source": [
    "id(college_stu)"
   ]
  },
  {
   "cell_type": "code",
   "execution_count": 165,
   "id": "0169606d",
   "metadata": {},
   "outputs": [],
   "source": [
    "#Tuple"
   ]
  },
  {
   "cell_type": "code",
   "execution_count": 178,
   "id": "34a4a2a4",
   "metadata": {},
   "outputs": [],
   "source": [
    "stu_marks = (21,11,23,22,21,22,11)"
   ]
  },
  {
   "cell_type": "code",
   "execution_count": 167,
   "id": "0586cec2",
   "metadata": {},
   "outputs": [
    {
     "data": {
      "text/plain": [
       "tuple"
      ]
     },
     "execution_count": 167,
     "metadata": {},
     "output_type": "execute_result"
    }
   ],
   "source": [
    "type(stu_marks\n",
    "    )"
   ]
  },
  {
   "cell_type": "code",
   "execution_count": 169,
   "id": "32f16ce0",
   "metadata": {},
   "outputs": [
    {
     "ename": "TypeError",
     "evalue": "'tuple' object does not support item assignment",
     "output_type": "error",
     "traceback": [
      "\u001b[1;31m---------------------------------------------------------------------------\u001b[0m",
      "\u001b[1;31mTypeError\u001b[0m                                 Traceback (most recent call last)",
      "\u001b[1;32m~\\AppData\\Local\\Temp\\ipykernel_21564\\1800382665.py\u001b[0m in \u001b[0;36m<module>\u001b[1;34m\u001b[0m\n\u001b[1;32m----> 1\u001b[1;33m \u001b[0mstu_marks\u001b[0m\u001b[1;33m[\u001b[0m\u001b[1;36m0\u001b[0m\u001b[1;33m]\u001b[0m\u001b[1;33m=\u001b[0m\u001b[1;36m22\u001b[0m\u001b[1;33m\u001b[0m\u001b[1;33m\u001b[0m\u001b[0m\n\u001b[0m",
      "\u001b[1;31mTypeError\u001b[0m: 'tuple' object does not support item assignment"
     ]
    }
   ],
   "source": [
    "stu_marks[0]=22"
   ]
  },
  {
   "cell_type": "code",
   "execution_count": 170,
   "id": "c19706c2",
   "metadata": {},
   "outputs": [
    {
     "data": {
      "text/plain": [
       "2"
      ]
     },
     "execution_count": 170,
     "metadata": {},
     "output_type": "execute_result"
    }
   ],
   "source": [
    "stu_marks.count(21)"
   ]
  },
  {
   "cell_type": "code",
   "execution_count": 171,
   "id": "820414d1",
   "metadata": {},
   "outputs": [
    {
     "data": {
      "text/plain": [
       "0"
      ]
     },
     "execution_count": 171,
     "metadata": {},
     "output_type": "execute_result"
    }
   ],
   "source": [
    "stu_marks.index(21)"
   ]
  },
  {
   "cell_type": "code",
   "execution_count": 172,
   "id": "f14b64df",
   "metadata": {},
   "outputs": [
    {
     "data": {
      "text/plain": [
       "7"
      ]
     },
     "execution_count": 172,
     "metadata": {},
     "output_type": "execute_result"
    }
   ],
   "source": [
    "len(stu_marks)"
   ]
  },
  {
   "cell_type": "code",
   "execution_count": 173,
   "id": "65cc20e2",
   "metadata": {},
   "outputs": [
    {
     "data": {
      "text/plain": [
       "131"
      ]
     },
     "execution_count": 173,
     "metadata": {},
     "output_type": "execute_result"
    }
   ],
   "source": [
    "sum(stu_marks)"
   ]
  },
  {
   "cell_type": "code",
   "execution_count": 174,
   "id": "d52ecd8f",
   "metadata": {},
   "outputs": [
    {
     "data": {
      "text/plain": [
       "11"
      ]
     },
     "execution_count": 174,
     "metadata": {},
     "output_type": "execute_result"
    }
   ],
   "source": [
    "min(stu_marks)"
   ]
  },
  {
   "cell_type": "code",
   "execution_count": 175,
   "id": "9778fd5d",
   "metadata": {},
   "outputs": [
    {
     "data": {
      "text/plain": [
       "23"
      ]
     },
     "execution_count": 175,
     "metadata": {},
     "output_type": "execute_result"
    }
   ],
   "source": [
    "max(stu_marks)"
   ]
  },
  {
   "cell_type": "code",
   "execution_count": 176,
   "id": "e681371c",
   "metadata": {},
   "outputs": [],
   "source": [
    "del stu_marks"
   ]
  },
  {
   "cell_type": "code",
   "execution_count": 177,
   "id": "2d6a28da",
   "metadata": {},
   "outputs": [
    {
     "ename": "NameError",
     "evalue": "name 'stu_marks' is not defined",
     "output_type": "error",
     "traceback": [
      "\u001b[1;31m---------------------------------------------------------------------------\u001b[0m",
      "\u001b[1;31mNameError\u001b[0m                                 Traceback (most recent call last)",
      "\u001b[1;32m~\\AppData\\Local\\Temp\\ipykernel_21564\\2813979263.py\u001b[0m in \u001b[0;36m<module>\u001b[1;34m\u001b[0m\n\u001b[1;32m----> 1\u001b[1;33m \u001b[0mstu_marks\u001b[0m\u001b[1;33m\u001b[0m\u001b[1;33m\u001b[0m\u001b[0m\n\u001b[0m",
      "\u001b[1;31mNameError\u001b[0m: name 'stu_marks' is not defined"
     ]
    }
   ],
   "source": [
    "stu_marks"
   ]
  },
  {
   "cell_type": "code",
   "execution_count": 180,
   "id": "795d00ea",
   "metadata": {},
   "outputs": [],
   "source": [
    "a = list(stu_marks)"
   ]
  },
  {
   "cell_type": "code",
   "execution_count": 182,
   "id": "3cd1b56b",
   "metadata": {},
   "outputs": [
    {
     "data": {
      "text/plain": [
       "list"
      ]
     },
     "execution_count": 182,
     "metadata": {},
     "output_type": "execute_result"
    }
   ],
   "source": [
    "type(a)"
   ]
  },
  {
   "cell_type": "code",
   "execution_count": 186,
   "id": "6a2b0c0a",
   "metadata": {},
   "outputs": [],
   "source": [
    "a[1]=22"
   ]
  },
  {
   "cell_type": "code",
   "execution_count": 187,
   "id": "4f91449d",
   "metadata": {},
   "outputs": [
    {
     "data": {
      "text/plain": [
       "[21, 22, 23, 22, 21, 22, 11]"
      ]
     },
     "execution_count": 187,
     "metadata": {},
     "output_type": "execute_result"
    }
   ],
   "source": [
    "a"
   ]
  },
  {
   "cell_type": "code",
   "execution_count": 188,
   "id": "449931d7",
   "metadata": {},
   "outputs": [
    {
     "data": {
      "text/plain": [
       "2541320402208"
      ]
     },
     "execution_count": 188,
     "metadata": {},
     "output_type": "execute_result"
    }
   ],
   "source": [
    "id(stu_marks)"
   ]
  },
  {
   "cell_type": "code",
   "execution_count": 189,
   "id": "1fafaa48",
   "metadata": {},
   "outputs": [],
   "source": [
    "stu_marks = tuple(a)"
   ]
  },
  {
   "cell_type": "code",
   "execution_count": 190,
   "id": "3c143b2a",
   "metadata": {},
   "outputs": [
    {
     "data": {
      "text/plain": [
       "2541320402880"
      ]
     },
     "execution_count": 190,
     "metadata": {},
     "output_type": "execute_result"
    }
   ],
   "source": [
    "id(stu_marks)"
   ]
  },
  {
   "cell_type": "code",
   "execution_count": 191,
   "id": "186cd3a5",
   "metadata": {},
   "outputs": [],
   "source": [
    "#dictionary"
   ]
  },
  {
   "cell_type": "code",
   "execution_count": 192,
   "id": "d67193ba",
   "metadata": {},
   "outputs": [],
   "source": [
    "stu_detail = {'stuid':1, 'stuname':'A','stureg':'N'}"
   ]
  },
  {
   "cell_type": "code",
   "execution_count": 194,
   "id": "ea810f4d",
   "metadata": {},
   "outputs": [
    {
     "data": {
      "text/plain": [
       "dict"
      ]
     },
     "execution_count": 194,
     "metadata": {},
     "output_type": "execute_result"
    }
   ],
   "source": [
    "type(stu_detail)"
   ]
  },
  {
   "cell_type": "code",
   "execution_count": 195,
   "id": "f832ea19",
   "metadata": {},
   "outputs": [
    {
     "data": {
      "text/plain": [
       "3"
      ]
     },
     "execution_count": 195,
     "metadata": {},
     "output_type": "execute_result"
    }
   ],
   "source": [
    "len(stu_detail)"
   ]
  },
  {
   "cell_type": "code",
   "execution_count": 206,
   "id": "c8da561f",
   "metadata": {},
   "outputs": [],
   "source": [
    "stu_detail = {'stuid':[1,2,3,4,5], 'stuname':['A','B','C','D','E'], 'stureg':['N','S','E','W','W']}"
   ]
  },
  {
   "cell_type": "code",
   "execution_count": 202,
   "id": "85074b79",
   "metadata": {},
   "outputs": [],
   "source": [
    "stu_detail['stuname'][1]='Z'"
   ]
  },
  {
   "cell_type": "code",
   "execution_count": 204,
   "id": "7b326777",
   "metadata": {},
   "outputs": [],
   "source": [
    "del stu_detail"
   ]
  },
  {
   "cell_type": "code",
   "execution_count": 209,
   "id": "2401ee60",
   "metadata": {},
   "outputs": [
    {
     "data": {
      "text/plain": [
       "[1, 2, 3, 4, 5]"
      ]
     },
     "execution_count": 209,
     "metadata": {},
     "output_type": "execute_result"
    }
   ],
   "source": [
    "stu_detail.get('stuid')"
   ]
  },
  {
   "cell_type": "code",
   "execution_count": 210,
   "id": "ba254982",
   "metadata": {},
   "outputs": [
    {
     "data": {
      "text/plain": [
       "dict_items([('stuid', [1, 2, 3, 4, 5]), ('stuname', ['A', 'B', 'C', 'D', 'E']), ('stureg', ['N', 'S', 'E', 'W', 'W'])])"
      ]
     },
     "execution_count": 210,
     "metadata": {},
     "output_type": "execute_result"
    }
   ],
   "source": [
    "stu_detail.items()"
   ]
  },
  {
   "cell_type": "code",
   "execution_count": 211,
   "id": "132bb3ae",
   "metadata": {},
   "outputs": [
    {
     "data": {
      "text/plain": [
       "dict_keys(['stuid', 'stuname', 'stureg'])"
      ]
     },
     "execution_count": 211,
     "metadata": {},
     "output_type": "execute_result"
    }
   ],
   "source": [
    "stu_detail.keys()"
   ]
  },
  {
   "cell_type": "code",
   "execution_count": 212,
   "id": "aaff7ff5",
   "metadata": {},
   "outputs": [
    {
     "data": {
      "text/plain": [
       "dict_values([[1, 2, 3, 4, 5], ['A', 'B', 'C', 'D', 'E'], ['N', 'S', 'E', 'W', 'W']])"
      ]
     },
     "execution_count": 212,
     "metadata": {},
     "output_type": "execute_result"
    }
   ],
   "source": [
    "stu_detail.values()"
   ]
  },
  {
   "cell_type": "code",
   "execution_count": 214,
   "id": "4735d520",
   "metadata": {},
   "outputs": [
    {
     "data": {
      "text/plain": [
       "[1, 2, 3, 4, 5]"
      ]
     },
     "execution_count": 214,
     "metadata": {},
     "output_type": "execute_result"
    }
   ],
   "source": [
    "stu_detail.pop('stuid')"
   ]
  },
  {
   "cell_type": "code",
   "execution_count": 217,
   "id": "929c3b64",
   "metadata": {},
   "outputs": [
    {
     "data": {
      "text/plain": [
       "('stureg', ['N', 'S', 'E', 'W', 'W'])"
      ]
     },
     "execution_count": 217,
     "metadata": {},
     "output_type": "execute_result"
    }
   ],
   "source": [
    "stu_detail.popitem()"
   ]
  },
  {
   "cell_type": "code",
   "execution_count": 219,
   "id": "563d9e9b",
   "metadata": {},
   "outputs": [],
   "source": [
    "stu_detail['stureg'] = ['N','S','S','E','W']"
   ]
  },
  {
   "cell_type": "code",
   "execution_count": 221,
   "id": "882114d8",
   "metadata": {},
   "outputs": [],
   "source": [
    "stu_detail.setdefault('stumarks')"
   ]
  },
  {
   "cell_type": "code",
   "execution_count": 223,
   "id": "4c30620d",
   "metadata": {},
   "outputs": [],
   "source": [
    "stu_detail['stumarks'] = [10,20,30,40,50]"
   ]
  },
  {
   "cell_type": "code",
   "execution_count": 224,
   "id": "48ec5e5e",
   "metadata": {},
   "outputs": [
    {
     "data": {
      "text/plain": [
       "{'stuname': ['A', 'B', 'C', 'D', 'E'],\n",
       " 'stureg': ['N', 'S', 'S', 'E', 'W'],\n",
       " 'stumarks': [10, 20, 30, 40, 50]}"
      ]
     },
     "execution_count": 224,
     "metadata": {},
     "output_type": "execute_result"
    }
   ],
   "source": [
    "stu_detail"
   ]
  },
  {
   "cell_type": "code",
   "execution_count": 225,
   "id": "6d56cda4",
   "metadata": {},
   "outputs": [],
   "source": [
    "dict1 = {1:2,3:4,5:6}\n",
    "dict2 = {1:10,7:8,9:11}"
   ]
  },
  {
   "cell_type": "code",
   "execution_count": 228,
   "id": "874a558a",
   "metadata": {},
   "outputs": [],
   "source": [
    "dict1.update(dict2)"
   ]
  },
  {
   "cell_type": "code",
   "execution_count": 229,
   "id": "10ca65a1",
   "metadata": {},
   "outputs": [
    {
     "data": {
      "text/plain": [
       "{1: 10, 3: 4, 5: 6, 7: 8, 9: 11}"
      ]
     },
     "execution_count": 229,
     "metadata": {},
     "output_type": "execute_result"
    }
   ],
   "source": [
    "dict1"
   ]
  },
  {
   "cell_type": "code",
   "execution_count": 230,
   "id": "6c7700bc",
   "metadata": {},
   "outputs": [
    {
     "data": {
      "text/plain": [
       "{'stuname': ['A', 'B', 'C', 'D', 'E'],\n",
       " 'stureg': ['N', 'S', 'S', 'E', 'W'],\n",
       " 'stumarks': [10, 20, 30, 40, 50]}"
      ]
     },
     "execution_count": 230,
     "metadata": {},
     "output_type": "execute_result"
    }
   ],
   "source": [
    "stu_detail"
   ]
  },
  {
   "cell_type": "code",
   "execution_count": 231,
   "id": "8d4ba6b7",
   "metadata": {},
   "outputs": [],
   "source": [
    "import pandas as pd"
   ]
  },
  {
   "cell_type": "code",
   "execution_count": 232,
   "id": "ec09ef73",
   "metadata": {},
   "outputs": [
    {
     "data": {
      "text/html": [
       "<div>\n",
       "<style scoped>\n",
       "    .dataframe tbody tr th:only-of-type {\n",
       "        vertical-align: middle;\n",
       "    }\n",
       "\n",
       "    .dataframe tbody tr th {\n",
       "        vertical-align: top;\n",
       "    }\n",
       "\n",
       "    .dataframe thead th {\n",
       "        text-align: right;\n",
       "    }\n",
       "</style>\n",
       "<table border=\"1\" class=\"dataframe\">\n",
       "  <thead>\n",
       "    <tr style=\"text-align: right;\">\n",
       "      <th></th>\n",
       "      <th>stuname</th>\n",
       "      <th>stureg</th>\n",
       "      <th>stumarks</th>\n",
       "    </tr>\n",
       "  </thead>\n",
       "  <tbody>\n",
       "    <tr>\n",
       "      <th>0</th>\n",
       "      <td>A</td>\n",
       "      <td>N</td>\n",
       "      <td>10</td>\n",
       "    </tr>\n",
       "    <tr>\n",
       "      <th>1</th>\n",
       "      <td>B</td>\n",
       "      <td>S</td>\n",
       "      <td>20</td>\n",
       "    </tr>\n",
       "    <tr>\n",
       "      <th>2</th>\n",
       "      <td>C</td>\n",
       "      <td>S</td>\n",
       "      <td>30</td>\n",
       "    </tr>\n",
       "    <tr>\n",
       "      <th>3</th>\n",
       "      <td>D</td>\n",
       "      <td>E</td>\n",
       "      <td>40</td>\n",
       "    </tr>\n",
       "    <tr>\n",
       "      <th>4</th>\n",
       "      <td>E</td>\n",
       "      <td>W</td>\n",
       "      <td>50</td>\n",
       "    </tr>\n",
       "  </tbody>\n",
       "</table>\n",
       "</div>"
      ],
      "text/plain": [
       "  stuname stureg  stumarks\n",
       "0       A      N        10\n",
       "1       B      S        20\n",
       "2       C      S        30\n",
       "3       D      E        40\n",
       "4       E      W        50"
      ]
     },
     "execution_count": 232,
     "metadata": {},
     "output_type": "execute_result"
    }
   ],
   "source": [
    "pd.DataFrame(stu_detail)"
   ]
  },
  {
   "cell_type": "code",
   "execution_count": 233,
   "id": "eebfe7af",
   "metadata": {},
   "outputs": [],
   "source": [
    "#sets"
   ]
  },
  {
   "cell_type": "code",
   "execution_count": 234,
   "id": "5013d70d",
   "metadata": {},
   "outputs": [],
   "source": [
    "set1 = {1,2,2,3,4,5,5,5,6,7,8,8}"
   ]
  },
  {
   "cell_type": "code",
   "execution_count": 238,
   "id": "827bf9cd",
   "metadata": {},
   "outputs": [
    {
     "data": {
      "text/plain": [
       "8"
      ]
     },
     "execution_count": 238,
     "metadata": {},
     "output_type": "execute_result"
    }
   ],
   "source": [
    "len(set1)"
   ]
  },
  {
   "cell_type": "code",
   "execution_count": 245,
   "id": "51b75432",
   "metadata": {},
   "outputs": [
    {
     "ename": "TypeError",
     "evalue": "unhashable type: 'list'",
     "output_type": "error",
     "traceback": [
      "\u001b[1;31m---------------------------------------------------------------------------\u001b[0m",
      "\u001b[1;31mTypeError\u001b[0m                                 Traceback (most recent call last)",
      "\u001b[1;32m~\\AppData\\Local\\Temp\\ipykernel_21564\\884379003.py\u001b[0m in \u001b[0;36m<module>\u001b[1;34m\u001b[0m\n\u001b[1;32m----> 1\u001b[1;33m \u001b[0mset1\u001b[0m\u001b[1;33m.\u001b[0m\u001b[0madd\u001b[0m\u001b[1;33m(\u001b[0m\u001b[1;33m[\u001b[0m\u001b[1;36m11\u001b[0m\u001b[1;33m,\u001b[0m\u001b[1;36m12\u001b[0m\u001b[1;33m,\u001b[0m\u001b[1;36m13\u001b[0m\u001b[1;33m]\u001b[0m\u001b[1;33m)\u001b[0m\u001b[1;33m\u001b[0m\u001b[1;33m\u001b[0m\u001b[0m\n\u001b[0m",
      "\u001b[1;31mTypeError\u001b[0m: unhashable type: 'list'"
     ]
    }
   ],
   "source": [
    "set1.add([11,12,13])"
   ]
  },
  {
   "cell_type": "code",
   "execution_count": 246,
   "id": "6baef404",
   "metadata": {},
   "outputs": [],
   "source": [
    "set1.update([11,12,13])"
   ]
  },
  {
   "cell_type": "code",
   "execution_count": 265,
   "id": "34e8c16b",
   "metadata": {},
   "outputs": [],
   "source": [
    "set1.discard(13)"
   ]
  },
  {
   "cell_type": "code",
   "execution_count": 266,
   "id": "ee14c387",
   "metadata": {},
   "outputs": [
    {
     "data": {
      "text/plain": [
       "{1, 2, 3, 4, 5, 6, 7, 8, 10, 11}"
      ]
     },
     "execution_count": 266,
     "metadata": {},
     "output_type": "execute_result"
    }
   ],
   "source": [
    "set1"
   ]
  },
  {
   "cell_type": "code",
   "execution_count": 267,
   "id": "3e19bf61",
   "metadata": {},
   "outputs": [
    {
     "ename": "KeyError",
     "evalue": "12",
     "output_type": "error",
     "traceback": [
      "\u001b[1;31m---------------------------------------------------------------------------\u001b[0m",
      "\u001b[1;31mKeyError\u001b[0m                                  Traceback (most recent call last)",
      "\u001b[1;32m~\\AppData\\Local\\Temp\\ipykernel_21564\\3384379038.py\u001b[0m in \u001b[0;36m<module>\u001b[1;34m\u001b[0m\n\u001b[1;32m----> 1\u001b[1;33m \u001b[0mset1\u001b[0m\u001b[1;33m.\u001b[0m\u001b[0mremove\u001b[0m\u001b[1;33m(\u001b[0m\u001b[1;36m12\u001b[0m\u001b[1;33m)\u001b[0m\u001b[1;33m\u001b[0m\u001b[1;33m\u001b[0m\u001b[0m\n\u001b[0m",
      "\u001b[1;31mKeyError\u001b[0m: 12"
     ]
    }
   ],
   "source": [
    "set1.remove(12)"
   ]
  },
  {
   "cell_type": "code",
   "execution_count": 269,
   "id": "909a245d",
   "metadata": {},
   "outputs": [
    {
     "data": {
      "text/plain": [
       "1"
      ]
     },
     "execution_count": 269,
     "metadata": {},
     "output_type": "execute_result"
    }
   ],
   "source": [
    "set1.pop()"
   ]
  },
  {
   "cell_type": "code",
   "execution_count": 283,
   "id": "c45d2861",
   "metadata": {},
   "outputs": [],
   "source": [
    "set1 = {1,2,3,4,5}\n",
    "set2 = {3,4,5,6}\n",
    "set3 = {2,3}\n",
    "set4 = {8,9,10}"
   ]
  },
  {
   "cell_type": "code",
   "execution_count": 272,
   "id": "e5002b80",
   "metadata": {},
   "outputs": [
    {
     "data": {
      "text/plain": [
       "{1, 2}"
      ]
     },
     "execution_count": 272,
     "metadata": {},
     "output_type": "execute_result"
    }
   ],
   "source": [
    "set1.difference(set2)"
   ]
  },
  {
   "cell_type": "code",
   "execution_count": 273,
   "id": "94ab1770",
   "metadata": {},
   "outputs": [
    {
     "data": {
      "text/plain": [
       "{1, 2, 6}"
      ]
     },
     "execution_count": 273,
     "metadata": {},
     "output_type": "execute_result"
    }
   ],
   "source": [
    "set1.symmetric_difference(set2)"
   ]
  },
  {
   "cell_type": "code",
   "execution_count": 274,
   "id": "33215520",
   "metadata": {},
   "outputs": [
    {
     "data": {
      "text/plain": [
       "{3, 4, 5}"
      ]
     },
     "execution_count": 274,
     "metadata": {},
     "output_type": "execute_result"
    }
   ],
   "source": [
    "set1.intersection(set2)"
   ]
  },
  {
   "cell_type": "code",
   "execution_count": 275,
   "id": "002e2ad0",
   "metadata": {},
   "outputs": [],
   "source": [
    "set1.difference_update(set2)"
   ]
  },
  {
   "cell_type": "code",
   "execution_count": 278,
   "id": "4b0aeafe",
   "metadata": {},
   "outputs": [],
   "source": [
    "set1.intersection_update(set2)"
   ]
  },
  {
   "cell_type": "code",
   "execution_count": 281,
   "id": "f534a7cb",
   "metadata": {},
   "outputs": [],
   "source": [
    "set1.symmetric_difference_update(set2)"
   ]
  },
  {
   "cell_type": "code",
   "execution_count": 282,
   "id": "4e6871cc",
   "metadata": {},
   "outputs": [
    {
     "data": {
      "text/plain": [
       "{1, 2, 6}"
      ]
     },
     "execution_count": 282,
     "metadata": {},
     "output_type": "execute_result"
    }
   ],
   "source": [
    "set1"
   ]
  },
  {
   "cell_type": "code",
   "execution_count": 284,
   "id": "871633bd",
   "metadata": {},
   "outputs": [],
   "source": [
    "set1 = {1,2,3,4,5}\n",
    "set2 = {3,4,5,6}\n",
    "set3 = {2,3}\n",
    "set4 = {8,9,10}"
   ]
  },
  {
   "cell_type": "code",
   "execution_count": 285,
   "id": "c9438de4",
   "metadata": {},
   "outputs": [
    {
     "data": {
      "text/plain": [
       "True"
      ]
     },
     "execution_count": 285,
     "metadata": {},
     "output_type": "execute_result"
    }
   ],
   "source": [
    "set1.issuperset(set3)"
   ]
  },
  {
   "cell_type": "code",
   "execution_count": 286,
   "id": "21d1a0bf",
   "metadata": {},
   "outputs": [
    {
     "data": {
      "text/plain": [
       "True"
      ]
     },
     "execution_count": 286,
     "metadata": {},
     "output_type": "execute_result"
    }
   ],
   "source": [
    "set3.issubset(set1)"
   ]
  },
  {
   "cell_type": "code",
   "execution_count": 287,
   "id": "2106be6d",
   "metadata": {},
   "outputs": [
    {
     "data": {
      "text/plain": [
       "True"
      ]
     },
     "execution_count": 287,
     "metadata": {},
     "output_type": "execute_result"
    }
   ],
   "source": [
    "set1.isdisjoint(set4)"
   ]
  },
  {
   "cell_type": "code",
   "execution_count": 288,
   "id": "f853c536",
   "metadata": {},
   "outputs": [
    {
     "data": {
      "text/plain": [
       "{1, 2, 3, 4, 5}"
      ]
     },
     "execution_count": 288,
     "metadata": {},
     "output_type": "execute_result"
    }
   ],
   "source": [
    "set1"
   ]
  },
  {
   "cell_type": "code",
   "execution_count": 289,
   "id": "880e30b8",
   "metadata": {},
   "outputs": [
    {
     "data": {
      "text/plain": [
       "{8, 9, 10}"
      ]
     },
     "execution_count": 289,
     "metadata": {},
     "output_type": "execute_result"
    }
   ],
   "source": [
    "set4"
   ]
  },
  {
   "cell_type": "code",
   "execution_count": 292,
   "id": "2eae3caa",
   "metadata": {},
   "outputs": [
    {
     "data": {
      "text/plain": [
       "{1, 2, 3, 4, 5, 8, 9, 10}"
      ]
     },
     "execution_count": 292,
     "metadata": {},
     "output_type": "execute_result"
    }
   ],
   "source": [
    "set1.union(set4)"
   ]
  },
  {
   "cell_type": "code",
   "execution_count": 294,
   "id": "8716cc12",
   "metadata": {},
   "outputs": [],
   "source": [
    "fsset = frozenset(set1)"
   ]
  },
  {
   "cell_type": "code",
   "execution_count": 296,
   "id": "56091e82",
   "metadata": {},
   "outputs": [],
   "source": [
    "a = None"
   ]
  },
  {
   "cell_type": "code",
   "execution_count": 297,
   "id": "bccd595e",
   "metadata": {},
   "outputs": [
    {
     "data": {
      "text/plain": [
       "NoneType"
      ]
     },
     "execution_count": 297,
     "metadata": {},
     "output_type": "execute_result"
    }
   ],
   "source": [
    "type(a)"
   ]
  },
  {
   "cell_type": "code",
   "execution_count": 298,
   "id": "3f0224d2",
   "metadata": {},
   "outputs": [],
   "source": [
    "a = ''"
   ]
  },
  {
   "cell_type": "code",
   "execution_count": 299,
   "id": "aa4e14b6",
   "metadata": {},
   "outputs": [
    {
     "data": {
      "text/plain": [
       "str"
      ]
     },
     "execution_count": 299,
     "metadata": {},
     "output_type": "execute_result"
    }
   ],
   "source": [
    "type(a)"
   ]
  },
  {
   "cell_type": "code",
   "execution_count": 303,
   "id": "8f80275f",
   "metadata": {},
   "outputs": [
    {
     "data": {
      "text/plain": [
       "[5, 6, 7, 8, 9]"
      ]
     },
     "execution_count": 303,
     "metadata": {},
     "output_type": "execute_result"
    }
   ],
   "source": [
    "list(range(5,10))"
   ]
  },
  {
   "cell_type": "code",
   "execution_count": 306,
   "id": "e7d9bfc8",
   "metadata": {},
   "outputs": [
    {
     "data": {
      "text/plain": [
       "[10, 8, 6]"
      ]
     },
     "execution_count": 306,
     "metadata": {},
     "output_type": "execute_result"
    }
   ],
   "source": [
    "list(range(10,5,-2))"
   ]
  },
  {
   "cell_type": "code",
   "execution_count": null,
   "id": "1579de7f",
   "metadata": {},
   "outputs": [],
   "source": []
  },
  {
   "cell_type": "code",
   "execution_count": null,
   "id": "b5531542",
   "metadata": {},
   "outputs": [],
   "source": []
  },
  {
   "cell_type": "code",
   "execution_count": null,
   "id": "0b0d0c28",
   "metadata": {},
   "outputs": [],
   "source": []
  },
  {
   "cell_type": "code",
   "execution_count": null,
   "id": "1c5fb173",
   "metadata": {},
   "outputs": [],
   "source": []
  },
  {
   "cell_type": "code",
   "execution_count": null,
   "id": "95c89b40",
   "metadata": {},
   "outputs": [],
   "source": []
  }
 ],
 "metadata": {
  "kernelspec": {
   "display_name": "Python 3 (ipykernel)",
   "language": "python",
   "name": "python3"
  },
  "language_info": {
   "codemirror_mode": {
    "name": "ipython",
    "version": 3
   },
   "file_extension": ".py",
   "mimetype": "text/x-python",
   "name": "python",
   "nbconvert_exporter": "python",
   "pygments_lexer": "ipython3",
   "version": "3.9.13"
  }
 },
 "nbformat": 4,
 "nbformat_minor": 5
}
