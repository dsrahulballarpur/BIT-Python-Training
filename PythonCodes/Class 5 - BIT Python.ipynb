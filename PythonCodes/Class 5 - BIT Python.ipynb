{
 "cells": [
  {
   "cell_type": "code",
   "execution_count": 3,
   "id": "ea5a3732",
   "metadata": {},
   "outputs": [],
   "source": [
    "def celtofer(c):\n",
    "    f = (c * 9/5) + 32\n",
    "    print(f)\n"
   ]
  },
  {
   "cell_type": "code",
   "execution_count": 4,
   "id": "7478c21a",
   "metadata": {},
   "outputs": [
    {
     "name": "stdout",
     "output_type": "stream",
     "text": [
      "50.0\n"
     ]
    }
   ],
   "source": [
    "celtofer(10)"
   ]
  },
  {
   "cell_type": "code",
   "execution_count": 5,
   "id": "712eb20b",
   "metadata": {},
   "outputs": [],
   "source": [
    "class CeltoFer:\n",
    "    def __init__(self,c):\n",
    "        self.c = c \n",
    "        \n",
    "    def celtofer(self):\n",
    "        f = (self.c * 9/5) + 32\n",
    "        print(f)"
   ]
  },
  {
   "cell_type": "code",
   "execution_count": 11,
   "id": "b99def4f",
   "metadata": {},
   "outputs": [
    {
     "data": {
      "text/plain": [
       "<__main__.CeltoFer at 0x1b853af3130>"
      ]
     },
     "execution_count": 11,
     "metadata": {},
     "output_type": "execute_result"
    }
   ],
   "source": [
    "c2"
   ]
  },
  {
   "cell_type": "code",
   "execution_count": 9,
   "id": "52600c79",
   "metadata": {},
   "outputs": [
    {
     "name": "stdout",
     "output_type": "stream",
     "text": [
      "50.0\n"
     ]
    }
   ],
   "source": [
    "c1 = CeltoFer(10)\n",
    "c1.celtofer()"
   ]
  },
  {
   "cell_type": "code",
   "execution_count": 7,
   "id": "74e67c34",
   "metadata": {},
   "outputs": [
    {
     "name": "stdout",
     "output_type": "stream",
     "text": [
      "68.0\n"
     ]
    }
   ],
   "source": [
    "c2 = CeltoFer(20)\n",
    "c2.celtofer()"
   ]
  },
  {
   "cell_type": "code",
   "execution_count": 27,
   "id": "57b1e331",
   "metadata": {},
   "outputs": [],
   "source": [
    "class Employee:\n",
    "    company_name = 'Deloitte'\n",
    "    def __init__(self,eno,efname,elname,esalary,eloc):\n",
    "        self.eno = eno\n",
    "        self.efname = efname\n",
    "        self.elname = elname\n",
    "        self.esalary = esalary\n",
    "        self.eloc = eloc\n",
    "        \n",
    "    def display(self):\n",
    "        print('The employee id is: ', self.eno)\n",
    "        print('The employee name is: ', self.efname + ' ' + self.elname)\n",
    "        print('The employee salary is: ', self.esalary)\n",
    "        print('The employee location is: ', self.eloc)\n",
    "        print('Your company name is: ', Employee.company_name)\n",
    "        \n",
    "    def tax_calc(self):\n",
    "        if self.esalary<2500:\n",
    "            print('The tax you have to pay is: ', self.esalary*0.0)\n",
    "        elif self.esalary>=2500 and self.esalary<=5000:\n",
    "            print('The tax you have to pay is: ', self.esalary*0.05)\n",
    "        elif self.esalary>5000 and self.esalary<=10000:\n",
    "            print('The tax you have to pay is: ', self.esalary*0.10)\n",
    "        else:\n",
    "            print('The tax you have to pay is: ', self.esalary*0.20)\n",
    "        \n",
    "    def bonus_calc(self):\n",
    "        if self.eloc=='Delhi':\n",
    "            print('You have total bonus as : ', self.esalary*0)\n",
    "        elif self.eloc=='Ballarpur':\n",
    "            print('You have total bonus as : ', self.esalary*0.10)\n",
    "        else:\n",
    "            print('You have total bonus as : ', self.esalary*0.20)"
   ]
  },
  {
   "cell_type": "code",
   "execution_count": 28,
   "id": "24757539",
   "metadata": {},
   "outputs": [
    {
     "name": "stdout",
     "output_type": "stream",
     "text": [
      "The employee id is:  1\n",
      "The employee name is:  A R\n",
      "The employee salary is:  1000\n",
      "The employee location is:  Bal\n",
      "Your company name is:  Deloitte\n",
      "The tax you have to pay is:  0.0\n",
      "You have total bonus as :  200.0\n"
     ]
    }
   ],
   "source": [
    "emp1 = Employee(1,'A','R',1000,'Bal')\n",
    "emp1.display()\n",
    "emp1.tax_calc()\n",
    "emp1.bonus_calc()"
   ]
  },
  {
   "cell_type": "code",
   "execution_count": 21,
   "id": "873200b0",
   "metadata": {},
   "outputs": [
    {
     "name": "stdout",
     "output_type": "stream",
     "text": [
      "<class 'list'>\n"
     ]
    }
   ],
   "source": [
    "list1 = [1,2,3,4]\n",
    "print(type(list1))"
   ]
  },
  {
   "cell_type": "code",
   "execution_count": 42,
   "id": "7a9333b9",
   "metadata": {},
   "outputs": [
    {
     "name": "stdout",
     "output_type": "stream",
     "text": [
      "Welcome to:  BIT Bank\n",
      "d-Deposit \n",
      "w-Withdraw \n",
      "e-Exit\n",
      "Let us know what you want to do: d\n",
      "Enter the amount you want to deposit: 50000\n",
      "The total balance is:  50000.0\n",
      "d-Deposit \n",
      "w-Withdraw \n",
      "e-Exit\n",
      "Let us know what you want to do: 2500\n",
      "Invalid option selected, please choose the correct option\n",
      "d-Deposit \n",
      "w-Withdraw \n",
      "e-Exit\n",
      "Let us know what you want to do: w\n",
      "Enter the amount you want to withdraw: 2500\n",
      "The total balance is:  47500.0\n",
      "d-Deposit \n",
      "w-Withdraw \n",
      "e-Exit\n",
      "Let us know what you want to do: d\n",
      "Enter the amount you want to deposit: 25000\n",
      "The total balance is:  72500.0\n",
      "d-Deposit \n",
      "w-Withdraw \n",
      "e-Exit\n",
      "Let us know what you want to do: w\n",
      "Enter the amount you want to withdraw: 100000000\n",
      "Insufficient balance, be practical\n"
     ]
    },
    {
     "ename": "SystemExit",
     "evalue": "",
     "output_type": "error",
     "traceback": [
      "An exception has occurred, use %tb to see the full traceback.\n",
      "\u001b[1;31mSystemExit\u001b[0m\n"
     ]
    }
   ],
   "source": [
    "import sys\n",
    "class Customer:\n",
    "    bankname = 'BIT Bank'\n",
    "    def __init__(self, name, balance=0.0):\n",
    "        self.name = name\n",
    "        self.balance = balance\n",
    "        \n",
    "    def deposit(self,amount):\n",
    "        self.balance = amount+self.balance\n",
    "        print('The total balance is: ', self.balance)\n",
    "        \n",
    "    def withdraw(self,amount):\n",
    "        if amount>self.balance:\n",
    "            print('Insufficient balance, be practical')\n",
    "            sys.exit()\n",
    "        self.balance = self.balance-amount\n",
    "        print('The total balance is: ', self.balance)\n",
    "        \n",
    "print('Welcome to: ', Customer.bankname)\n",
    "c1 = Customer('Abhay')\n",
    "while True:\n",
    "    print('d-Deposit \\nw-Withdraw \\ne-Exit')\n",
    "    option = input('Let us know what you want to do: ').lower()\n",
    "    if option=='d':\n",
    "        amount = float(input('Enter the amount you want to deposit: '))\n",
    "        c1.deposit(amount)\n",
    "    elif option=='w':\n",
    "        amount = float(input('Enter the amount you want to withdraw: '))\n",
    "        c1.withdraw(amount)\n",
    "    elif option=='e':\n",
    "        print('Thank you for banking with us')\n",
    "        sys.exit()\n",
    "    else:\n",
    "        print('Invalid option selected, please choose the correct option')\n",
    "    "
   ]
  },
  {
   "cell_type": "code",
   "execution_count": 43,
   "id": "209092ac",
   "metadata": {},
   "outputs": [],
   "source": [
    "#Pandas"
   ]
  },
  {
   "cell_type": "code",
   "execution_count": 44,
   "id": "cc783b89",
   "metadata": {},
   "outputs": [],
   "source": [
    "import pandas as pd"
   ]
  },
  {
   "cell_type": "code",
   "execution_count": 45,
   "id": "d19af560",
   "metadata": {},
   "outputs": [
    {
     "data": {
      "text/plain": [
       "'1.4.4'"
      ]
     },
     "execution_count": 45,
     "metadata": {},
     "output_type": "execute_result"
    }
   ],
   "source": [
    "pd.__version__"
   ]
  },
  {
   "cell_type": "code",
   "execution_count": 46,
   "id": "653a0296",
   "metadata": {},
   "outputs": [],
   "source": [
    "stu_details = {'sid':[1,2,3,4,5],'sname':['A','B','C','D','E'],'sregion':['S','N','E','W','E']}"
   ]
  },
  {
   "cell_type": "code",
   "execution_count": 49,
   "id": "aaf3e4aa",
   "metadata": {},
   "outputs": [],
   "source": [
    "df1 = pd.DataFrame(stu_details)"
   ]
  },
  {
   "cell_type": "code",
   "execution_count": 58,
   "id": "ce88f28c",
   "metadata": {},
   "outputs": [],
   "source": [
    "stu_marks = {'s_id':[1,2,3,4,6],'ssub':['Py','R','Jav','Py','Py'], 'smarks':[10,9,8,9,10]}"
   ]
  },
  {
   "cell_type": "code",
   "execution_count": 59,
   "id": "ab56b18c",
   "metadata": {},
   "outputs": [],
   "source": [
    "df2 =pd.DataFrame(stu_marks)"
   ]
  },
  {
   "cell_type": "code",
   "execution_count": 60,
   "id": "d923c189",
   "metadata": {},
   "outputs": [
    {
     "data": {
      "text/html": [
       "<div>\n",
       "<style scoped>\n",
       "    .dataframe tbody tr th:only-of-type {\n",
       "        vertical-align: middle;\n",
       "    }\n",
       "\n",
       "    .dataframe tbody tr th {\n",
       "        vertical-align: top;\n",
       "    }\n",
       "\n",
       "    .dataframe thead th {\n",
       "        text-align: right;\n",
       "    }\n",
       "</style>\n",
       "<table border=\"1\" class=\"dataframe\">\n",
       "  <thead>\n",
       "    <tr style=\"text-align: right;\">\n",
       "      <th></th>\n",
       "      <th>sid</th>\n",
       "      <th>sname</th>\n",
       "      <th>sregion</th>\n",
       "    </tr>\n",
       "  </thead>\n",
       "  <tbody>\n",
       "    <tr>\n",
       "      <th>0</th>\n",
       "      <td>1</td>\n",
       "      <td>A</td>\n",
       "      <td>S</td>\n",
       "    </tr>\n",
       "    <tr>\n",
       "      <th>1</th>\n",
       "      <td>2</td>\n",
       "      <td>B</td>\n",
       "      <td>N</td>\n",
       "    </tr>\n",
       "    <tr>\n",
       "      <th>2</th>\n",
       "      <td>3</td>\n",
       "      <td>C</td>\n",
       "      <td>E</td>\n",
       "    </tr>\n",
       "    <tr>\n",
       "      <th>3</th>\n",
       "      <td>4</td>\n",
       "      <td>D</td>\n",
       "      <td>W</td>\n",
       "    </tr>\n",
       "    <tr>\n",
       "      <th>4</th>\n",
       "      <td>5</td>\n",
       "      <td>E</td>\n",
       "      <td>E</td>\n",
       "    </tr>\n",
       "  </tbody>\n",
       "</table>\n",
       "</div>"
      ],
      "text/plain": [
       "   sid sname sregion\n",
       "0    1     A       S\n",
       "1    2     B       N\n",
       "2    3     C       E\n",
       "3    4     D       W\n",
       "4    5     E       E"
      ]
     },
     "execution_count": 60,
     "metadata": {},
     "output_type": "execute_result"
    }
   ],
   "source": [
    "df1"
   ]
  },
  {
   "cell_type": "code",
   "execution_count": 61,
   "id": "1b2069fb",
   "metadata": {},
   "outputs": [
    {
     "data": {
      "text/html": [
       "<div>\n",
       "<style scoped>\n",
       "    .dataframe tbody tr th:only-of-type {\n",
       "        vertical-align: middle;\n",
       "    }\n",
       "\n",
       "    .dataframe tbody tr th {\n",
       "        vertical-align: top;\n",
       "    }\n",
       "\n",
       "    .dataframe thead th {\n",
       "        text-align: right;\n",
       "    }\n",
       "</style>\n",
       "<table border=\"1\" class=\"dataframe\">\n",
       "  <thead>\n",
       "    <tr style=\"text-align: right;\">\n",
       "      <th></th>\n",
       "      <th>s_id</th>\n",
       "      <th>ssub</th>\n",
       "      <th>smarks</th>\n",
       "    </tr>\n",
       "  </thead>\n",
       "  <tbody>\n",
       "    <tr>\n",
       "      <th>0</th>\n",
       "      <td>1</td>\n",
       "      <td>Py</td>\n",
       "      <td>10</td>\n",
       "    </tr>\n",
       "    <tr>\n",
       "      <th>1</th>\n",
       "      <td>2</td>\n",
       "      <td>R</td>\n",
       "      <td>9</td>\n",
       "    </tr>\n",
       "    <tr>\n",
       "      <th>2</th>\n",
       "      <td>3</td>\n",
       "      <td>Jav</td>\n",
       "      <td>8</td>\n",
       "    </tr>\n",
       "    <tr>\n",
       "      <th>3</th>\n",
       "      <td>4</td>\n",
       "      <td>Py</td>\n",
       "      <td>9</td>\n",
       "    </tr>\n",
       "    <tr>\n",
       "      <th>4</th>\n",
       "      <td>6</td>\n",
       "      <td>Py</td>\n",
       "      <td>10</td>\n",
       "    </tr>\n",
       "  </tbody>\n",
       "</table>\n",
       "</div>"
      ],
      "text/plain": [
       "   s_id ssub  smarks\n",
       "0     1   Py      10\n",
       "1     2    R       9\n",
       "2     3  Jav       8\n",
       "3     4   Py       9\n",
       "4     6   Py      10"
      ]
     },
     "execution_count": 61,
     "metadata": {},
     "output_type": "execute_result"
    }
   ],
   "source": [
    "df2"
   ]
  },
  {
   "cell_type": "code",
   "execution_count": 63,
   "id": "dc45098c",
   "metadata": {},
   "outputs": [
    {
     "data": {
      "text/html": [
       "<div>\n",
       "<style scoped>\n",
       "    .dataframe tbody tr th:only-of-type {\n",
       "        vertical-align: middle;\n",
       "    }\n",
       "\n",
       "    .dataframe tbody tr th {\n",
       "        vertical-align: top;\n",
       "    }\n",
       "\n",
       "    .dataframe thead th {\n",
       "        text-align: right;\n",
       "    }\n",
       "</style>\n",
       "<table border=\"1\" class=\"dataframe\">\n",
       "  <thead>\n",
       "    <tr style=\"text-align: right;\">\n",
       "      <th></th>\n",
       "      <th>sid</th>\n",
       "      <th>sname</th>\n",
       "      <th>sregion</th>\n",
       "      <th>s_id</th>\n",
       "      <th>ssub</th>\n",
       "      <th>smarks</th>\n",
       "    </tr>\n",
       "  </thead>\n",
       "  <tbody>\n",
       "    <tr>\n",
       "      <th>0</th>\n",
       "      <td>1</td>\n",
       "      <td>A</td>\n",
       "      <td>S</td>\n",
       "      <td>1</td>\n",
       "      <td>Py</td>\n",
       "      <td>10</td>\n",
       "    </tr>\n",
       "    <tr>\n",
       "      <th>1</th>\n",
       "      <td>2</td>\n",
       "      <td>B</td>\n",
       "      <td>N</td>\n",
       "      <td>2</td>\n",
       "      <td>R</td>\n",
       "      <td>9</td>\n",
       "    </tr>\n",
       "    <tr>\n",
       "      <th>2</th>\n",
       "      <td>3</td>\n",
       "      <td>C</td>\n",
       "      <td>E</td>\n",
       "      <td>3</td>\n",
       "      <td>Jav</td>\n",
       "      <td>8</td>\n",
       "    </tr>\n",
       "    <tr>\n",
       "      <th>3</th>\n",
       "      <td>4</td>\n",
       "      <td>D</td>\n",
       "      <td>W</td>\n",
       "      <td>4</td>\n",
       "      <td>Py</td>\n",
       "      <td>9</td>\n",
       "    </tr>\n",
       "  </tbody>\n",
       "</table>\n",
       "</div>"
      ],
      "text/plain": [
       "   sid sname sregion  s_id ssub  smarks\n",
       "0    1     A       S     1   Py      10\n",
       "1    2     B       N     2    R       9\n",
       "2    3     C       E     3  Jav       8\n",
       "3    4     D       W     4   Py       9"
      ]
     },
     "execution_count": 63,
     "metadata": {},
     "output_type": "execute_result"
    }
   ],
   "source": [
    "pd.merge(df1,df2,left_on=['sid','sname'],right_on=['s_id','sname'])"
   ]
  },
  {
   "cell_type": "code",
   "execution_count": 66,
   "id": "d9c9bb04",
   "metadata": {},
   "outputs": [
    {
     "data": {
      "text/html": [
       "<div>\n",
       "<style scoped>\n",
       "    .dataframe tbody tr th:only-of-type {\n",
       "        vertical-align: middle;\n",
       "    }\n",
       "\n",
       "    .dataframe tbody tr th {\n",
       "        vertical-align: top;\n",
       "    }\n",
       "\n",
       "    .dataframe thead th {\n",
       "        text-align: right;\n",
       "    }\n",
       "</style>\n",
       "<table border=\"1\" class=\"dataframe\">\n",
       "  <thead>\n",
       "    <tr style=\"text-align: right;\">\n",
       "      <th></th>\n",
       "      <th>sid</th>\n",
       "      <th>sname</th>\n",
       "      <th>sregion</th>\n",
       "      <th>s_id</th>\n",
       "      <th>ssub</th>\n",
       "      <th>smarks</th>\n",
       "    </tr>\n",
       "  </thead>\n",
       "  <tbody>\n",
       "    <tr>\n",
       "      <th>0</th>\n",
       "      <td>1.0</td>\n",
       "      <td>A</td>\n",
       "      <td>S</td>\n",
       "      <td>1.0</td>\n",
       "      <td>Py</td>\n",
       "      <td>10.0</td>\n",
       "    </tr>\n",
       "    <tr>\n",
       "      <th>1</th>\n",
       "      <td>2.0</td>\n",
       "      <td>B</td>\n",
       "      <td>N</td>\n",
       "      <td>2.0</td>\n",
       "      <td>R</td>\n",
       "      <td>9.0</td>\n",
       "    </tr>\n",
       "    <tr>\n",
       "      <th>2</th>\n",
       "      <td>3.0</td>\n",
       "      <td>C</td>\n",
       "      <td>E</td>\n",
       "      <td>3.0</td>\n",
       "      <td>Jav</td>\n",
       "      <td>8.0</td>\n",
       "    </tr>\n",
       "    <tr>\n",
       "      <th>3</th>\n",
       "      <td>4.0</td>\n",
       "      <td>D</td>\n",
       "      <td>W</td>\n",
       "      <td>4.0</td>\n",
       "      <td>Py</td>\n",
       "      <td>9.0</td>\n",
       "    </tr>\n",
       "    <tr>\n",
       "      <th>4</th>\n",
       "      <td>5.0</td>\n",
       "      <td>E</td>\n",
       "      <td>E</td>\n",
       "      <td>NaN</td>\n",
       "      <td>NaN</td>\n",
       "      <td>NaN</td>\n",
       "    </tr>\n",
       "    <tr>\n",
       "      <th>5</th>\n",
       "      <td>NaN</td>\n",
       "      <td>NaN</td>\n",
       "      <td>NaN</td>\n",
       "      <td>6.0</td>\n",
       "      <td>Py</td>\n",
       "      <td>10.0</td>\n",
       "    </tr>\n",
       "  </tbody>\n",
       "</table>\n",
       "</div>"
      ],
      "text/plain": [
       "   sid sname sregion  s_id ssub  smarks\n",
       "0  1.0     A       S   1.0   Py    10.0\n",
       "1  2.0     B       N   2.0    R     9.0\n",
       "2  3.0     C       E   3.0  Jav     8.0\n",
       "3  4.0     D       W   4.0   Py     9.0\n",
       "4  5.0     E       E   NaN  NaN     NaN\n",
       "5  NaN   NaN     NaN   6.0   Py    10.0"
      ]
     },
     "execution_count": 66,
     "metadata": {},
     "output_type": "execute_result"
    }
   ],
   "source": [
    "pd.merge(pd.merge(df1,df2,left_on='sid',right_on='s_id',how='outer'),df3)"
   ]
  },
  {
   "cell_type": "code",
   "execution_count": 72,
   "id": "21a2e728",
   "metadata": {},
   "outputs": [],
   "source": [
    "stu_details_ind = {'sid':[1,2,3,4,5],'sname':['A','B','C','D','E'],'sregion':['S_IN','N_IN','E_IN','W_IN','E_IN']}"
   ]
  },
  {
   "cell_type": "code",
   "execution_count": 68,
   "id": "819a1b85",
   "metadata": {},
   "outputs": [
    {
     "data": {
      "text/plain": [
       "{'sid': [1, 2, 3, 4, 5],\n",
       " 'sname': ['A', 'B', 'C', 'D', 'E'],\n",
       " 'sregion': ['S_IN', 'N_IN', 'E_IN', 'W_IN', 'E_IN']}"
      ]
     },
     "execution_count": 68,
     "metadata": {},
     "output_type": "execute_result"
    }
   ],
   "source": [
    "stu_details_ind"
   ]
  },
  {
   "cell_type": "code",
   "execution_count": 71,
   "id": "167ef20c",
   "metadata": {},
   "outputs": [],
   "source": [
    "stu_details_us = {'sid':[6,7,8,9,5],'sname':['P','Z','Y','X','E'],'sregion':['S_US','N_US','E_US','W_US','E_IN']}"
   ]
  },
  {
   "cell_type": "code",
   "execution_count": 73,
   "id": "850f6a23",
   "metadata": {},
   "outputs": [
    {
     "data": {
      "text/plain": [
       "{'sid': [1, 2, 3, 4, 5],\n",
       " 'sname': ['A', 'B', 'C', 'D', 'E'],\n",
       " 'sregion': ['S_IN', 'N_IN', 'E_IN', 'W_IN', 'E_IN']}"
      ]
     },
     "execution_count": 73,
     "metadata": {},
     "output_type": "execute_result"
    }
   ],
   "source": [
    "stu_details_ind"
   ]
  },
  {
   "cell_type": "code",
   "execution_count": 74,
   "id": "35e9af57",
   "metadata": {},
   "outputs": [
    {
     "data": {
      "text/plain": [
       "{'sid': [6, 7, 8, 9, 5],\n",
       " 'sname': ['P', 'Z', 'Y', 'X', 'E'],\n",
       " 'sregion': ['S_US', 'N_US', 'E_US', 'W_US', 'E_IN']}"
      ]
     },
     "execution_count": 74,
     "metadata": {},
     "output_type": "execute_result"
    }
   ],
   "source": [
    "stu_details_us"
   ]
  },
  {
   "cell_type": "code",
   "execution_count": 75,
   "id": "58b50827",
   "metadata": {},
   "outputs": [],
   "source": [
    "df_in = pd.DataFrame(stu_details_ind)"
   ]
  },
  {
   "cell_type": "code",
   "execution_count": 76,
   "id": "8f9b0b47",
   "metadata": {},
   "outputs": [],
   "source": [
    "df_us = pd.DataFrame(stu_details_us)"
   ]
  },
  {
   "cell_type": "code",
   "execution_count": 77,
   "id": "a7586ec6",
   "metadata": {},
   "outputs": [
    {
     "data": {
      "text/html": [
       "<div>\n",
       "<style scoped>\n",
       "    .dataframe tbody tr th:only-of-type {\n",
       "        vertical-align: middle;\n",
       "    }\n",
       "\n",
       "    .dataframe tbody tr th {\n",
       "        vertical-align: top;\n",
       "    }\n",
       "\n",
       "    .dataframe thead th {\n",
       "        text-align: right;\n",
       "    }\n",
       "</style>\n",
       "<table border=\"1\" class=\"dataframe\">\n",
       "  <thead>\n",
       "    <tr style=\"text-align: right;\">\n",
       "      <th></th>\n",
       "      <th>sid</th>\n",
       "      <th>sname</th>\n",
       "      <th>sregion</th>\n",
       "    </tr>\n",
       "  </thead>\n",
       "  <tbody>\n",
       "    <tr>\n",
       "      <th>0</th>\n",
       "      <td>1</td>\n",
       "      <td>A</td>\n",
       "      <td>S_IN</td>\n",
       "    </tr>\n",
       "    <tr>\n",
       "      <th>1</th>\n",
       "      <td>2</td>\n",
       "      <td>B</td>\n",
       "      <td>N_IN</td>\n",
       "    </tr>\n",
       "    <tr>\n",
       "      <th>2</th>\n",
       "      <td>3</td>\n",
       "      <td>C</td>\n",
       "      <td>E_IN</td>\n",
       "    </tr>\n",
       "    <tr>\n",
       "      <th>3</th>\n",
       "      <td>4</td>\n",
       "      <td>D</td>\n",
       "      <td>W_IN</td>\n",
       "    </tr>\n",
       "    <tr>\n",
       "      <th>4</th>\n",
       "      <td>5</td>\n",
       "      <td>E</td>\n",
       "      <td>E_IN</td>\n",
       "    </tr>\n",
       "  </tbody>\n",
       "</table>\n",
       "</div>"
      ],
      "text/plain": [
       "   sid sname sregion\n",
       "0    1     A    S_IN\n",
       "1    2     B    N_IN\n",
       "2    3     C    E_IN\n",
       "3    4     D    W_IN\n",
       "4    5     E    E_IN"
      ]
     },
     "execution_count": 77,
     "metadata": {},
     "output_type": "execute_result"
    }
   ],
   "source": [
    "df_in"
   ]
  },
  {
   "cell_type": "code",
   "execution_count": 78,
   "id": "b3e2fbe6",
   "metadata": {},
   "outputs": [
    {
     "data": {
      "text/html": [
       "<div>\n",
       "<style scoped>\n",
       "    .dataframe tbody tr th:only-of-type {\n",
       "        vertical-align: middle;\n",
       "    }\n",
       "\n",
       "    .dataframe tbody tr th {\n",
       "        vertical-align: top;\n",
       "    }\n",
       "\n",
       "    .dataframe thead th {\n",
       "        text-align: right;\n",
       "    }\n",
       "</style>\n",
       "<table border=\"1\" class=\"dataframe\">\n",
       "  <thead>\n",
       "    <tr style=\"text-align: right;\">\n",
       "      <th></th>\n",
       "      <th>sid</th>\n",
       "      <th>sname</th>\n",
       "      <th>sregion</th>\n",
       "    </tr>\n",
       "  </thead>\n",
       "  <tbody>\n",
       "    <tr>\n",
       "      <th>0</th>\n",
       "      <td>6</td>\n",
       "      <td>P</td>\n",
       "      <td>S_US</td>\n",
       "    </tr>\n",
       "    <tr>\n",
       "      <th>1</th>\n",
       "      <td>7</td>\n",
       "      <td>Z</td>\n",
       "      <td>N_US</td>\n",
       "    </tr>\n",
       "    <tr>\n",
       "      <th>2</th>\n",
       "      <td>8</td>\n",
       "      <td>Y</td>\n",
       "      <td>E_US</td>\n",
       "    </tr>\n",
       "    <tr>\n",
       "      <th>3</th>\n",
       "      <td>9</td>\n",
       "      <td>X</td>\n",
       "      <td>W_US</td>\n",
       "    </tr>\n",
       "    <tr>\n",
       "      <th>4</th>\n",
       "      <td>5</td>\n",
       "      <td>E</td>\n",
       "      <td>E_IN</td>\n",
       "    </tr>\n",
       "  </tbody>\n",
       "</table>\n",
       "</div>"
      ],
      "text/plain": [
       "   sid sname sregion\n",
       "0    6     P    S_US\n",
       "1    7     Z    N_US\n",
       "2    8     Y    E_US\n",
       "3    9     X    W_US\n",
       "4    5     E    E_IN"
      ]
     },
     "execution_count": 78,
     "metadata": {},
     "output_type": "execute_result"
    }
   ],
   "source": [
    "df_us"
   ]
  },
  {
   "cell_type": "code",
   "execution_count": 82,
   "id": "dfd57c21",
   "metadata": {},
   "outputs": [],
   "source": [
    "output = pd.concat([df_in,df_us]).reset_index().drop('index',axis=1).drop_duplicates()"
   ]
  },
  {
   "cell_type": "code",
   "execution_count": 83,
   "id": "ded7002e",
   "metadata": {},
   "outputs": [
    {
     "data": {
      "text/html": [
       "<div>\n",
       "<style scoped>\n",
       "    .dataframe tbody tr th:only-of-type {\n",
       "        vertical-align: middle;\n",
       "    }\n",
       "\n",
       "    .dataframe tbody tr th {\n",
       "        vertical-align: top;\n",
       "    }\n",
       "\n",
       "    .dataframe thead th {\n",
       "        text-align: right;\n",
       "    }\n",
       "</style>\n",
       "<table border=\"1\" class=\"dataframe\">\n",
       "  <thead>\n",
       "    <tr style=\"text-align: right;\">\n",
       "      <th></th>\n",
       "      <th>sid</th>\n",
       "      <th>sname</th>\n",
       "      <th>sregion</th>\n",
       "    </tr>\n",
       "  </thead>\n",
       "  <tbody>\n",
       "    <tr>\n",
       "      <th>0</th>\n",
       "      <td>1</td>\n",
       "      <td>A</td>\n",
       "      <td>S_IN</td>\n",
       "    </tr>\n",
       "    <tr>\n",
       "      <th>1</th>\n",
       "      <td>2</td>\n",
       "      <td>B</td>\n",
       "      <td>N_IN</td>\n",
       "    </tr>\n",
       "    <tr>\n",
       "      <th>2</th>\n",
       "      <td>3</td>\n",
       "      <td>C</td>\n",
       "      <td>E_IN</td>\n",
       "    </tr>\n",
       "    <tr>\n",
       "      <th>3</th>\n",
       "      <td>4</td>\n",
       "      <td>D</td>\n",
       "      <td>W_IN</td>\n",
       "    </tr>\n",
       "    <tr>\n",
       "      <th>4</th>\n",
       "      <td>5</td>\n",
       "      <td>E</td>\n",
       "      <td>E_IN</td>\n",
       "    </tr>\n",
       "    <tr>\n",
       "      <th>5</th>\n",
       "      <td>6</td>\n",
       "      <td>P</td>\n",
       "      <td>S_US</td>\n",
       "    </tr>\n",
       "    <tr>\n",
       "      <th>6</th>\n",
       "      <td>7</td>\n",
       "      <td>Z</td>\n",
       "      <td>N_US</td>\n",
       "    </tr>\n",
       "    <tr>\n",
       "      <th>7</th>\n",
       "      <td>8</td>\n",
       "      <td>Y</td>\n",
       "      <td>E_US</td>\n",
       "    </tr>\n",
       "    <tr>\n",
       "      <th>8</th>\n",
       "      <td>9</td>\n",
       "      <td>X</td>\n",
       "      <td>W_US</td>\n",
       "    </tr>\n",
       "  </tbody>\n",
       "</table>\n",
       "</div>"
      ],
      "text/plain": [
       "   sid sname sregion\n",
       "0    1     A    S_IN\n",
       "1    2     B    N_IN\n",
       "2    3     C    E_IN\n",
       "3    4     D    W_IN\n",
       "4    5     E    E_IN\n",
       "5    6     P    S_US\n",
       "6    7     Z    N_US\n",
       "7    8     Y    E_US\n",
       "8    9     X    W_US"
      ]
     },
     "execution_count": 83,
     "metadata": {},
     "output_type": "execute_result"
    }
   ],
   "source": [
    "output"
   ]
  },
  {
   "cell_type": "code",
   "execution_count": 86,
   "id": "5ddff309",
   "metadata": {},
   "outputs": [
    {
     "data": {
      "text/html": [
       "<div>\n",
       "<style scoped>\n",
       "    .dataframe tbody tr th:only-of-type {\n",
       "        vertical-align: middle;\n",
       "    }\n",
       "\n",
       "    .dataframe tbody tr th {\n",
       "        vertical-align: top;\n",
       "    }\n",
       "\n",
       "    .dataframe thead th {\n",
       "        text-align: right;\n",
       "    }\n",
       "</style>\n",
       "<table border=\"1\" class=\"dataframe\">\n",
       "  <thead>\n",
       "    <tr style=\"text-align: right;\">\n",
       "      <th></th>\n",
       "      <th>sid</th>\n",
       "      <th>sname</th>\n",
       "      <th>sregion</th>\n",
       "    </tr>\n",
       "  </thead>\n",
       "  <tbody>\n",
       "    <tr>\n",
       "      <th>0</th>\n",
       "      <td>1</td>\n",
       "      <td>A</td>\n",
       "      <td>S_IN</td>\n",
       "    </tr>\n",
       "    <tr>\n",
       "      <th>1</th>\n",
       "      <td>2</td>\n",
       "      <td>B</td>\n",
       "      <td>N_IN</td>\n",
       "    </tr>\n",
       "    <tr>\n",
       "      <th>2</th>\n",
       "      <td>3</td>\n",
       "      <td>C</td>\n",
       "      <td>E_IN</td>\n",
       "    </tr>\n",
       "    <tr>\n",
       "      <th>3</th>\n",
       "      <td>4</td>\n",
       "      <td>D</td>\n",
       "      <td>W_IN</td>\n",
       "    </tr>\n",
       "    <tr>\n",
       "      <th>4</th>\n",
       "      <td>5</td>\n",
       "      <td>E</td>\n",
       "      <td>E_IN</td>\n",
       "    </tr>\n",
       "    <tr>\n",
       "      <th>0</th>\n",
       "      <td>6</td>\n",
       "      <td>P</td>\n",
       "      <td>S_US</td>\n",
       "    </tr>\n",
       "    <tr>\n",
       "      <th>1</th>\n",
       "      <td>7</td>\n",
       "      <td>Z</td>\n",
       "      <td>N_US</td>\n",
       "    </tr>\n",
       "    <tr>\n",
       "      <th>2</th>\n",
       "      <td>8</td>\n",
       "      <td>Y</td>\n",
       "      <td>E_US</td>\n",
       "    </tr>\n",
       "    <tr>\n",
       "      <th>3</th>\n",
       "      <td>9</td>\n",
       "      <td>X</td>\n",
       "      <td>W_US</td>\n",
       "    </tr>\n",
       "    <tr>\n",
       "      <th>4</th>\n",
       "      <td>5</td>\n",
       "      <td>E</td>\n",
       "      <td>E_IN</td>\n",
       "    </tr>\n",
       "  </tbody>\n",
       "</table>\n",
       "</div>"
      ],
      "text/plain": [
       "   sid sname sregion\n",
       "0    1     A    S_IN\n",
       "1    2     B    N_IN\n",
       "2    3     C    E_IN\n",
       "3    4     D    W_IN\n",
       "4    5     E    E_IN\n",
       "0    6     P    S_US\n",
       "1    7     Z    N_US\n",
       "2    8     Y    E_US\n",
       "3    9     X    W_US\n",
       "4    5     E    E_IN"
      ]
     },
     "execution_count": 86,
     "metadata": {},
     "output_type": "execute_result"
    }
   ],
   "source": [
    "pd.concat([df_in,df_us],axis=0)"
   ]
  },
  {
   "cell_type": "code",
   "execution_count": null,
   "id": "d0385c3f",
   "metadata": {},
   "outputs": [],
   "source": []
  },
  {
   "cell_type": "code",
   "execution_count": null,
   "id": "443470b7",
   "metadata": {},
   "outputs": [],
   "source": []
  }
 ],
 "metadata": {
  "kernelspec": {
   "display_name": "Python 3 (ipykernel)",
   "language": "python",
   "name": "python3"
  },
  "language_info": {
   "codemirror_mode": {
    "name": "ipython",
    "version": 3
   },
   "file_extension": ".py",
   "mimetype": "text/x-python",
   "name": "python",
   "nbconvert_exporter": "python",
   "pygments_lexer": "ipython3",
   "version": "3.9.13"
  }
 },
 "nbformat": 4,
 "nbformat_minor": 5
}
